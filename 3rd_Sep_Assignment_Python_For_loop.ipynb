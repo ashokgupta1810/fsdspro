{
  "nbformat": 4,
  "nbformat_minor": 0,
  "metadata": {
    "colab": {
      "provenance": [],
      "toc_visible": true,
      "authorship_tag": "ABX9TyNpFdJcABCeCx9DEGKaGmbK",
      "include_colab_link": true
    },
    "kernelspec": {
      "name": "python3",
      "display_name": "Python 3"
    },
    "language_info": {
      "name": "python"
    }
  },
  "cells": [
    {
      "cell_type": "markdown",
      "metadata": {
        "id": "view-in-github",
        "colab_type": "text"
      },
      "source": [
        "<a href=\"https://colab.research.google.com/github/ashokgupta1810/fsdspro/blob/main/3rd_Sep_Assignment_Python_For_loop.ipynb\" target=\"_parent\"><img src=\"https://colab.research.google.com/assets/colab-badge.svg\" alt=\"Open In Colab\"/></a>"
      ]
    },
    {
      "cell_type": "code",
      "execution_count": null,
      "metadata": {
        "id": "5g3NDQA5hFZH"
      },
      "outputs": [],
      "source": [
        "## Basic level"
      ]
    },
    {
      "cell_type": "code",
      "source": [
        "'''1. Write a Python program to print the numbers from 1 to 10 using a `for` loop.'''\n",
        "for i in range(1,11):\n",
        "  print(i, end='')"
      ],
      "metadata": {
        "colab": {
          "base_uri": "https://localhost:8080/"
        },
        "id": "Mq38q3KghLM_",
        "outputId": "85b78204-006e-4e67-858e-4dbffb33a82e"
      },
      "execution_count": 5,
      "outputs": [
        {
          "output_type": "stream",
          "name": "stdout",
          "text": [
            "12345678910"
          ]
        }
      ]
    },
    {
      "cell_type": "code",
      "source": [
        "'''2. Create a program that calculates the sum of all numbers in a list using a `for` loop.'''\n",
        "lst= [1,2,3,5]\n",
        "s=0\n",
        "for i in lst:\n",
        "  s=s+i\n",
        "s"
      ],
      "metadata": {
        "colab": {
          "base_uri": "https://localhost:8080/"
        },
        "id": "W9KordYFhLSi",
        "outputId": "72855d50-539c-421e-c66a-63eceb553ebd"
      },
      "execution_count": 3,
      "outputs": [
        {
          "output_type": "execute_result",
          "data": {
            "text/plain": [
              "11"
            ]
          },
          "metadata": {},
          "execution_count": 3
        }
      ]
    },
    {
      "cell_type": "code",
      "source": [
        "'''3. Write a program to print the characters of a string in reverse order using a `for` loop.'''\n",
        "strn = 'abcde'\n",
        "for i in reversed(strn):\n",
        "  print(i, end='')\n"
      ],
      "metadata": {
        "colab": {
          "base_uri": "https://localhost:8080/"
        },
        "id": "zFiaQlzdhLYF",
        "outputId": "cb99ee78-464c-463d-d9de-e024bca9373d"
      },
      "execution_count": 8,
      "outputs": [
        {
          "output_type": "stream",
          "name": "stdout",
          "text": [
            "edcba"
          ]
        }
      ]
    },
    {
      "cell_type": "code",
      "source": [
        "'''4. Develop a program that finds the factorial of a given number using a `for` loop.'''\n",
        "def fact(n):\n",
        "  fct=1\n",
        "  for i in range(2,n+1):\n",
        "    fct=fct*i\n",
        "  return fct\n",
        "fact(8)"
      ],
      "metadata": {
        "colab": {
          "base_uri": "https://localhost:8080/"
        },
        "id": "-5ywsyXLhLa1",
        "outputId": "2f81c74e-ea3f-405c-8fc2-cb9efdb2ba9c"
      },
      "execution_count": 10,
      "outputs": [
        {
          "output_type": "execute_result",
          "data": {
            "text/plain": [
              "40320"
            ]
          },
          "metadata": {},
          "execution_count": 10
        }
      ]
    },
    {
      "cell_type": "code",
      "source": [
        "'''5. Create a program to print the multiplication table of a given number using a `for` loop.'''\n",
        "def table(n):\n",
        "  for i in range(1,11):\n",
        "    print(f\"{n}*{i}={n*i}\")\n",
        "table(6)"
      ],
      "metadata": {
        "colab": {
          "base_uri": "https://localhost:8080/"
        },
        "id": "gpbwRi-UhLd4",
        "outputId": "2e4f6788-73e0-4970-b53b-f2d2c93ffdf5"
      },
      "execution_count": 12,
      "outputs": [
        {
          "output_type": "stream",
          "name": "stdout",
          "text": [
            "6*1=6\n",
            "6*2=12\n",
            "6*3=18\n",
            "6*4=24\n",
            "6*5=30\n",
            "6*6=36\n",
            "6*7=42\n",
            "6*8=48\n",
            "6*9=54\n",
            "6*10=60\n"
          ]
        }
      ]
    },
    {
      "cell_type": "code",
      "source": [
        "'''6. Write a program that counts the number of even and odd numbers in a list using a `for` loop.'''\n",
        "lst=[1,2,3,4,5,5,6]\n",
        "odd_cnt, even_cnt=0,0\n",
        "for i in lst:\n",
        "  if i%2==0:\n",
        "    even_cnt+=1\n",
        "  else:\n",
        "    odd_cnt+=1\n",
        "print(f\"Odd Count: {odd_cnt}, Even Count: {even_cnt}\")"
      ],
      "metadata": {
        "colab": {
          "base_uri": "https://localhost:8080/"
        },
        "id": "nSQjYZGzhLgs",
        "outputId": "636e62ee-a949-4c48-9539-5cea982505c6"
      },
      "execution_count": 13,
      "outputs": [
        {
          "output_type": "stream",
          "name": "stdout",
          "text": [
            "Odd Count: 4, Even Count: 3\n"
          ]
        }
      ]
    },
    {
      "cell_type": "code",
      "source": [
        "'''7. Develop a program that prints the squares of numbers from 1 to 5 using a `for` loop.'''\n",
        "for i in range(1,6):\n",
        "  print(i*i)"
      ],
      "metadata": {
        "colab": {
          "base_uri": "https://localhost:8080/"
        },
        "id": "DWhSzotChLjb",
        "outputId": "cac0a9eb-518d-43cf-9fc8-0445b8bf559b"
      },
      "execution_count": 14,
      "outputs": [
        {
          "output_type": "stream",
          "name": "stdout",
          "text": [
            "1\n",
            "4\n",
            "9\n",
            "16\n",
            "25\n"
          ]
        }
      ]
    },
    {
      "cell_type": "code",
      "source": [
        "'''8. Create a program to find the length of a string without using the `len()` function.'''\n",
        "strn='abcde'\n",
        "str_len=0\n",
        "for s in strn:\n",
        "  str_len+=1\n",
        "str_len"
      ],
      "metadata": {
        "colab": {
          "base_uri": "https://localhost:8080/"
        },
        "id": "dDNwZZIbhLl5",
        "outputId": "20452c4e-7c27-4aa6-af43-7bf406104ea8"
      },
      "execution_count": 15,
      "outputs": [
        {
          "output_type": "execute_result",
          "data": {
            "text/plain": [
              "5"
            ]
          },
          "metadata": {},
          "execution_count": 15
        }
      ]
    },
    {
      "cell_type": "code",
      "source": [
        "'''9. Write a program that calculates the average of a list of numbers using a `for` loop.'''\n",
        "lst=[1,2,3,4,5,6]\n",
        "sum, len=0,0\n",
        "for i in lst:\n",
        "  sum+=i\n",
        "  len+=1\n",
        "sum/len\n"
      ],
      "metadata": {
        "colab": {
          "base_uri": "https://localhost:8080/"
        },
        "id": "NftTDHSKhLof",
        "outputId": "f1dc9cdf-357c-47fb-b1de-eb588cde19e1"
      },
      "execution_count": 17,
      "outputs": [
        {
          "output_type": "execute_result",
          "data": {
            "text/plain": [
              "3.5"
            ]
          },
          "metadata": {},
          "execution_count": 17
        }
      ]
    },
    {
      "cell_type": "code",
      "source": [
        "'''10. Develop a program that prints the first `n` Fibonacci numbers using a `for` loop.'''\n",
        "def fib(n):\n",
        "  if n<=2:\n",
        "    return 1\n",
        "  else:\n",
        "    return fib(n-1)+fib(n-2)\n",
        "for i in range(1,5):\n",
        "  print(fib(i))"
      ],
      "metadata": {
        "colab": {
          "base_uri": "https://localhost:8080/"
        },
        "id": "mvTzZE5phLq2",
        "outputId": "dd383895-81f6-462b-bb6a-19ac35211bbb"
      },
      "execution_count": 19,
      "outputs": [
        {
          "output_type": "stream",
          "name": "stdout",
          "text": [
            "1\n",
            "1\n",
            "2\n",
            "3\n"
          ]
        }
      ]
    },
    {
      "cell_type": "code",
      "source": [
        "### Intermediate Level:"
      ],
      "metadata": {
        "id": "LtN3ftk5hLtu"
      },
      "execution_count": null,
      "outputs": []
    },
    {
      "cell_type": "code",
      "source": [
        "'''11. Write a program to check if a given list contains any duplicates using a `for` loop.'''\n",
        "lst = [1,2,3,4,5,5,7]\n",
        "newlist=[]\n",
        "dct={}\n",
        "for i in lst:\n",
        "  if i in newlist:\n",
        "    dct[i]+=1\n",
        "  else:\n",
        "    dct[i]=1\n",
        "  newlist.append(i)\n",
        "dct\n"
      ],
      "metadata": {
        "colab": {
          "base_uri": "https://localhost:8080/"
        },
        "id": "Z-6S94CehLwK",
        "outputId": "0d7f263c-5939-4574-a1d7-60e5ae50b742"
      },
      "execution_count": 23,
      "outputs": [
        {
          "output_type": "execute_result",
          "data": {
            "text/plain": [
              "{1: 1, 2: 1, 3: 1, 4: 1, 5: 2, 7: 1}"
            ]
          },
          "metadata": {},
          "execution_count": 23
        }
      ]
    },
    {
      "cell_type": "code",
      "source": [
        "'''12. Create a program that prints the prime numbers in a given range using a `for` loop.'''\n",
        "def is_prime(n):\n",
        "  for i in range(2, int(n**0.5)+1):\n",
        "    if n%i==0:\n",
        "      return False\n",
        "  return True\n",
        "\n",
        "for i in range(2,15):\n",
        "  if is_prime(i):\n",
        "    print(i)"
      ],
      "metadata": {
        "colab": {
          "base_uri": "https://localhost:8080/"
        },
        "id": "HsZdpWUVhLzc",
        "outputId": "535910d3-27a8-43c4-a3b6-50a51ba15d83"
      },
      "execution_count": 25,
      "outputs": [
        {
          "output_type": "stream",
          "name": "stdout",
          "text": [
            "2\n",
            "3\n",
            "5\n",
            "7\n",
            "11\n",
            "13\n"
          ]
        }
      ]
    },
    {
      "cell_type": "code",
      "source": [
        "'''13. Develop a program that counts the number of vowels in a string using a `for` loop.'''\n",
        "strn='ashok'\n",
        "vow=0\n",
        "for s in strn:\n",
        "  if s in 'aeiou':\n",
        "    vow+=1\n",
        "vow"
      ],
      "metadata": {
        "colab": {
          "base_uri": "https://localhost:8080/"
        },
        "id": "yTXteDbfhL2S",
        "outputId": "4e38c71e-4f74-47c2-a4ed-d2c333b364d0"
      },
      "execution_count": 26,
      "outputs": [
        {
          "output_type": "execute_result",
          "data": {
            "text/plain": [
              "2"
            ]
          },
          "metadata": {},
          "execution_count": 26
        }
      ]
    },
    {
      "cell_type": "code",
      "source": [
        "'''14. Write a program to find the maximum element in a 2D list using a nested `for` loop.'''\n",
        "lst=[[1,2,3],[4,5,6],[5,6,1]]\n",
        "\n",
        "for l in lst:\n",
        "  for i in l:\n",
        "    if 'max' in locals():\n",
        "      if max<i:\n",
        "        max=i\n",
        "    else:\n",
        "      max=i\n",
        "max"
      ],
      "metadata": {
        "colab": {
          "base_uri": "https://localhost:8080/"
        },
        "id": "Vg9bUdR7ph4F",
        "outputId": "ab17f800-b793-4b1e-d03b-ab8b01fdedc1"
      },
      "execution_count": 30,
      "outputs": [
        {
          "output_type": "execute_result",
          "data": {
            "text/plain": [
              "6"
            ]
          },
          "metadata": {},
          "execution_count": 30
        }
      ]
    },
    {
      "cell_type": "code",
      "source": [
        "'''15. Create a program that removes all occurrences of a specific element from a list using a `for` loop.'''\n",
        "lst= [1,2,3,3,3,4,5,5,6]\n",
        "newlist=[]\n",
        "spec = 5\n",
        "for i in lst:\n",
        "  if i!=spec:\n",
        "    newlist.append(i)\n",
        "newlist\n",
        ""
      ],
      "metadata": {
        "colab": {
          "base_uri": "https://localhost:8080/"
        },
        "id": "N52cyCjLph_l",
        "outputId": "a9e7172a-1147-4b34-d63f-800fe3a2c243"
      },
      "execution_count": 41,
      "outputs": [
        {
          "output_type": "execute_result",
          "data": {
            "text/plain": [
              "[1, 2, 3, 3, 3, 4, 6]"
            ]
          },
          "metadata": {},
          "execution_count": 41
        }
      ]
    },
    {
      "cell_type": "code",
      "source": [
        "'''16. Develop a program that generates a multiplication table for numbers from 1 to 5 using a nested `for` loop.'''\n",
        "for i in range(1,6):\n",
        "  print(f\"Table for {i}\")\n",
        "  for j in range(1,11):\n",
        "    print(i*j, end=' ')\n",
        "  print()"
      ],
      "metadata": {
        "colab": {
          "base_uri": "https://localhost:8080/"
        },
        "id": "DR_vgWSIpiCv",
        "outputId": "cbe5b0fc-062e-4a5a-8e68-df2d7eb445eb"
      },
      "execution_count": 45,
      "outputs": [
        {
          "output_type": "stream",
          "name": "stdout",
          "text": [
            "Table for 1\n",
            "1 2 3 4 5 6 7 8 9 10 \n",
            "Table for 2\n",
            "2 4 6 8 10 12 14 16 18 20 \n",
            "Table for 3\n",
            "3 6 9 12 15 18 21 24 27 30 \n",
            "Table for 4\n",
            "4 8 12 16 20 24 28 32 36 40 \n",
            "Table for 5\n",
            "5 10 15 20 25 30 35 40 45 50 \n"
          ]
        }
      ]
    },
    {
      "cell_type": "code",
      "source": [
        "'''17. Write a program that converts a list of Fahrenheit temperatures to Celsius using a `for` loop.'''\n",
        "far_lst= [100,160]\n",
        "cel_lst=[]\n",
        "for i in far_lst:\n",
        "  cel= (i-32)*5/9\n",
        "  cel_lst.append(cel)\n",
        "cel_lst"
      ],
      "metadata": {
        "colab": {
          "base_uri": "https://localhost:8080/"
        },
        "id": "i_oASs4npiF1",
        "outputId": "75de7698-4939-4440-e225-db3293151c61"
      },
      "execution_count": 46,
      "outputs": [
        {
          "output_type": "execute_result",
          "data": {
            "text/plain": [
              "[37.77777777777778, 71.11111111111111]"
            ]
          },
          "metadata": {},
          "execution_count": 46
        }
      ]
    },
    {
      "cell_type": "code",
      "source": [
        "'''18. Create a program to print the common elements from two lists using a `for` loop.'''\n",
        "lst1, lst2=[1,2,3,4,5], [3,4,6,7,8]\n",
        "for i in lst1:\n",
        "  for j in lst2:\n",
        "    if i==j:\n",
        "      print(i)"
      ],
      "metadata": {
        "colab": {
          "base_uri": "https://localhost:8080/"
        },
        "id": "L_13f3MnpiIp",
        "outputId": "feb7050f-e58d-41b1-b85e-53233f1d319c"
      },
      "execution_count": 47,
      "outputs": [
        {
          "output_type": "stream",
          "name": "stdout",
          "text": [
            "3\n",
            "4\n"
          ]
        }
      ]
    },
    {
      "cell_type": "code",
      "source": [
        "'''19. Develop a program that prints the pattern of right-angled triangles using a `for` loop. Use ‘*’ to draw the\n",
        "pattern'''\n",
        "for i in range(1,10):\n",
        "  for j in range(1,i+1):\n",
        "    print('*', end ='')\n",
        "  print()"
      ],
      "metadata": {
        "colab": {
          "base_uri": "https://localhost:8080/"
        },
        "id": "1neNGyvApiLn",
        "outputId": "77cc2c17-ce90-4c44-c45c-6aedf2dbb2d8"
      },
      "execution_count": 50,
      "outputs": [
        {
          "output_type": "stream",
          "name": "stdout",
          "text": [
            "*\n",
            "**\n",
            "***\n",
            "****\n",
            "*****\n",
            "******\n",
            "*******\n",
            "********\n",
            "*********\n"
          ]
        }
      ]
    },
    {
      "cell_type": "code",
      "source": [
        "'''20. Write a program to find the greatest common divisor (GCD) of two numbers using a `for` loop.'''\n",
        "a,b=200,75\n",
        "for i in range(1, min(a,b)):\n",
        "  if (a%i==0 and b%i==0):\n",
        "    res = i\n",
        "  else:\n",
        "    pass\n",
        "\n",
        "res"
      ],
      "metadata": {
        "colab": {
          "base_uri": "https://localhost:8080/"
        },
        "id": "EWl0W-y2piN9",
        "outputId": "950dfad2-5652-464b-eaca-c4279c69a02e"
      },
      "execution_count": 3,
      "outputs": [
        {
          "output_type": "execute_result",
          "data": {
            "text/plain": [
              "25"
            ]
          },
          "metadata": {},
          "execution_count": 3
        }
      ]
    },
    {
      "cell_type": "code",
      "source": [
        "### Advanced Level"
      ],
      "metadata": {
        "id": "WR23xi20piQ1"
      },
      "execution_count": null,
      "outputs": []
    },
    {
      "cell_type": "code",
      "source": [
        "'''21. Create a program that calculates the sum of the digits of numbers in a list using a list comprehension.'''\n",
        "lst=[1,2,3,4,5,5]\n",
        "j=0\n",
        "sum = sum([i for i in lst])\n",
        "sum"
      ],
      "metadata": {
        "colab": {
          "base_uri": "https://localhost:8080/"
        },
        "id": "Tp-4EpdnpiTs",
        "outputId": "49546b8b-d37c-4793-98fc-6bebb93f9874"
      },
      "execution_count": 2,
      "outputs": [
        {
          "output_type": "execute_result",
          "data": {
            "text/plain": [
              "20"
            ]
          },
          "metadata": {},
          "execution_count": 2
        }
      ]
    },
    {
      "cell_type": "code",
      "source": [
        "'''22. Write a program to find the prime factors of a given number using a `for` loop and list comprehension.'''\n",
        "def prime_factor(n):\n",
        "  lst=[]\n",
        "  for i in range(2,int(n/2)):\n",
        "    while n%i==0:\n",
        "      #print(\"while\", i)\n",
        "      n=n/i\n",
        "      lst.append(i)\n",
        "    if len(lst)==0:\n",
        "      lst= [n]\n",
        "  return set(lst)\n",
        "prime_factor(71)"
      ],
      "metadata": {
        "colab": {
          "base_uri": "https://localhost:8080/"
        },
        "id": "GPkhNLJApiWS",
        "outputId": "00b25846-10ff-43ce-a795-6ef7ce53c085"
      },
      "execution_count": 18,
      "outputs": [
        {
          "output_type": "execute_result",
          "data": {
            "text/plain": [
              "{71}"
            ]
          },
          "metadata": {},
          "execution_count": 18
        }
      ]
    },
    {
      "cell_type": "code",
      "source": [
        "'''23. Develop a program that extracts unique elements from a list and stores them in a new list using a list\n",
        "comprehension.'''\n",
        "lst= [1,2,3,4,5,5,6,4]\n",
        "lst2 = [x for i,x in enumerate(lst) if x not in lst[:i]]\n",
        "lst2"
      ],
      "metadata": {
        "colab": {
          "base_uri": "https://localhost:8080/"
        },
        "id": "6ywD7YvZpiZC",
        "outputId": "f1766f22-505c-48bb-d47c-54d0054d8b96"
      },
      "execution_count": 20,
      "outputs": [
        {
          "output_type": "execute_result",
          "data": {
            "text/plain": [
              "[1, 2, 3, 4, 5, 6]"
            ]
          },
          "metadata": {},
          "execution_count": 20
        }
      ]
    },
    {
      "cell_type": "code",
      "source": [
        "'''24. Create a program that generates a list of all palindromic numbers up to a specified limit using a list\n",
        "comprehension.'''\n",
        "n=200\n",
        "lst =[i for i in range(n) if str(i)==''.join(list(reversed(str(i))))]\n",
        "lst"
      ],
      "metadata": {
        "colab": {
          "base_uri": "https://localhost:8080/"
        },
        "id": "Zb9FGK9Kpib0",
        "outputId": "596ccad9-bf51-47a5-d65c-456e5b1344e2"
      },
      "execution_count": 9,
      "outputs": [
        {
          "output_type": "execute_result",
          "data": {
            "text/plain": [
              "[0,\n",
              " 1,\n",
              " 2,\n",
              " 3,\n",
              " 4,\n",
              " 5,\n",
              " 6,\n",
              " 7,\n",
              " 8,\n",
              " 9,\n",
              " 11,\n",
              " 22,\n",
              " 33,\n",
              " 44,\n",
              " 55,\n",
              " 66,\n",
              " 77,\n",
              " 88,\n",
              " 99,\n",
              " 101,\n",
              " 111,\n",
              " 121,\n",
              " 131,\n",
              " 141,\n",
              " 151,\n",
              " 161,\n",
              " 171,\n",
              " 181,\n",
              " 191]"
            ]
          },
          "metadata": {},
          "execution_count": 9
        }
      ]
    },
    {
      "cell_type": "code",
      "source": [
        "'''25. Write a program to flatten a nested list using list comprehension.'''\n",
        "lst=[[1,2,3],[1,2],[5]]\n",
        "lst1 = [ele for sublist in lst for ele in sublist]\n",
        "lst1"
      ],
      "metadata": {
        "colab": {
          "base_uri": "https://localhost:8080/"
        },
        "id": "_lEuwM68pied",
        "outputId": "072a1679-f87e-4ece-9d00-2463abe8db2c"
      },
      "execution_count": 11,
      "outputs": [
        {
          "output_type": "execute_result",
          "data": {
            "text/plain": [
              "[1, 2, 3, 1, 2, 5]"
            ]
          },
          "metadata": {},
          "execution_count": 11
        }
      ]
    },
    {
      "cell_type": "code",
      "source": [
        "'''26. Develop a program that computes the sum of even and odd numbers in a list separately using list\n",
        "comprehension.'''\n",
        "lst=[1,2,3,4,5,6]\n",
        "even_sum = sum([i for i in lst if i%2==0])\n",
        "odd_sum = sum([i for i in lst if i%2==1])\n",
        "print(f\"Even Sum: {even_sum} and Odd Sum: {odd_sum}\")"
      ],
      "metadata": {
        "colab": {
          "base_uri": "https://localhost:8080/"
        },
        "id": "tK1PJfi7pikX",
        "outputId": "3660d06f-b65c-402d-d36d-a18cf2acd9e2"
      },
      "execution_count": 12,
      "outputs": [
        {
          "output_type": "stream",
          "name": "stdout",
          "text": [
            "Even Sum: 12 and Odd Sum: 9\n"
          ]
        }
      ]
    },
    {
      "cell_type": "code",
      "source": [
        "'''27. Create a program that generates a list of squares of odd numbers between 1 and 10 using list\n",
        "comprehension.'''\n",
        "lst=[1,2,3,4,5,6,7]\n",
        "lst2=[i**2 for i in range(1,11) if i%2==1]\n",
        "lst2"
      ],
      "metadata": {
        "colab": {
          "base_uri": "https://localhost:8080/"
        },
        "id": "HEXjlBABpink",
        "outputId": "e0d9241f-442e-4c13-bc1e-44ecad788d3e"
      },
      "execution_count": 13,
      "outputs": [
        {
          "output_type": "execute_result",
          "data": {
            "text/plain": [
              "[1, 9, 25, 49, 81]"
            ]
          },
          "metadata": {},
          "execution_count": 13
        }
      ]
    },
    {
      "cell_type": "code",
      "source": [
        "'''28. Write a program that combines two lists into a dictionary using list comprehension.'''\n",
        "lst1=[1,2,3,4,5]\n",
        "lst2=[5,6,7,8,9]\n"
      ],
      "metadata": {
        "id": "2B3SGm0Kpip8"
      },
      "execution_count": 19,
      "outputs": []
    },
    {
      "cell_type": "code",
      "source": [
        "'''29. Develop a program that extracts the vowels from a string and stores them in a list using list comprehension.'''\n",
        "strin = 'ashok'\n",
        "lst = [i for i in strin if i not in 'aeiou']\n",
        "''.join(lst)"
      ],
      "metadata": {
        "colab": {
          "base_uri": "https://localhost:8080/",
          "height": 35
        },
        "id": "0ZjzfFO2kbDl",
        "outputId": "05049d2d-140e-46d0-c2e8-c445c7b20426"
      },
      "execution_count": 21,
      "outputs": [
        {
          "output_type": "execute_result",
          "data": {
            "text/plain": [
              "'shk'"
            ],
            "application/vnd.google.colaboratory.intrinsic+json": {
              "type": "string"
            }
          },
          "metadata": {},
          "execution_count": 21
        }
      ]
    },
    {
      "cell_type": "code",
      "source": [
        "'''30. Create a program that removes all non-numeric characters from a list of strings using list comprehension.'''\n",
        "strin = '123India1'\n",
        "lst = [i for i in strin if i not in '0123456789']\n",
        "''.join(lst)"
      ],
      "metadata": {
        "colab": {
          "base_uri": "https://localhost:8080/",
          "height": 35
        },
        "id": "0zbxRDFGkbGn",
        "outputId": "d53c17b0-6e25-4c79-84e7-42bea41ca4bc"
      },
      "execution_count": 24,
      "outputs": [
        {
          "output_type": "execute_result",
          "data": {
            "text/plain": [
              "'India'"
            ],
            "application/vnd.google.colaboratory.intrinsic+json": {
              "type": "string"
            }
          },
          "metadata": {},
          "execution_count": 24
        }
      ]
    },
    {
      "cell_type": "code",
      "source": [
        "### Challenge Level:"
      ],
      "metadata": {
        "id": "9Q1Sex2IkbJg"
      },
      "execution_count": null,
      "outputs": []
    },
    {
      "cell_type": "code",
      "source": [
        "'''31. Write a program to generate a list of prime numbers using the Sieve of Eratosthenes algorithm and list\n",
        "comprehension.'''\n"
      ],
      "metadata": {
        "id": "Sk8QI5CakbMa"
      },
      "execution_count": null,
      "outputs": []
    },
    {
      "cell_type": "code",
      "source": [
        "'''32. Create a program that generates a list of all Pythagorean triplets up to a specified limit using list\n",
        "comprehension.'''\n"
      ],
      "metadata": {
        "id": "-Z-tPAAikbPD"
      },
      "execution_count": null,
      "outputs": []
    },
    {
      "cell_type": "code",
      "source": [
        "'''33. Develop a program that generates a list of all possible combinations of two lists using list comprehension.'''\n",
        "lst1=[1,2,3]\n",
        "lst2=[4,5,6]\n",
        "comb =[ (x,y) for x in lst1 for y in lst2]\n",
        "comb"
      ],
      "metadata": {
        "colab": {
          "base_uri": "https://localhost:8080/"
        },
        "id": "o2y7szuakbSC",
        "outputId": "5ce13bd9-a228-4097-fc58-0944cc9a7064"
      },
      "execution_count": 25,
      "outputs": [
        {
          "output_type": "execute_result",
          "data": {
            "text/plain": [
              "[(1, 4), (1, 5), (1, 6), (2, 4), (2, 5), (2, 6), (3, 4), (3, 5), (3, 6)]"
            ]
          },
          "metadata": {},
          "execution_count": 25
        }
      ]
    },
    {
      "cell_type": "code",
      "source": [
        "'''34. Write a program that calculates the mean, median, and mode of a list of numbers using list\n",
        "comprehension.'''\n",
        "lst = [1,2,3,4,5,6,1,7,7,7,8]\n",
        "\n",
        "mean = sum(lst)/len(lst)\n",
        "print(f\"Mean: {mean}\")\n",
        "lst= sorted(lst)\n",
        "if len(lst)%2==0:\n",
        "  median = (lst[(len(lst)/2)]+lst[(len(lst)/2)+1])/2\n",
        "else:\n",
        "  median = lst[(int(len(lst)/2))]\n",
        "print(f\"Median: {median}\")\n",
        "\n",
        "dct={}\n",
        "for i in lst:\n",
        "  if i in dct:\n",
        "    dct[i]+=1\n",
        "  else:\n",
        "    dct[i]=1\n",
        "mode= max(dct, key=dct.get)\n",
        "print(f\"Mode: {mode}\")\n"
      ],
      "metadata": {
        "colab": {
          "base_uri": "https://localhost:8080/"
        },
        "id": "b8DUk8Q7kbU2",
        "outputId": "39066ed2-e310-42fd-afc3-6b8ef576fdb9"
      },
      "execution_count": 1,
      "outputs": [
        {
          "output_type": "stream",
          "name": "stdout",
          "text": [
            "Mean: 4.636363636363637\n",
            "Median: 5\n",
            "Mode: 7\n"
          ]
        }
      ]
    },
    {
      "cell_type": "code",
      "source": [
        "'''35. Create a program that generates Pascal's triangle up to a specified number of rows using list\n",
        "comprehension.'''"
      ],
      "metadata": {
        "colab": {
          "base_uri": "https://localhost:8080/",
          "height": 35
        },
        "id": "FwUQ8ucQkbbq",
        "outputId": "62569118-f3fa-4549-90b7-438eb544cbbb"
      },
      "execution_count": 2,
      "outputs": [
        {
          "output_type": "execute_result",
          "data": {
            "text/plain": [
              "\"35. Create a program that generates Pascal's triangle up to a specified number of rows using list\\ncomprehension.\""
            ],
            "application/vnd.google.colaboratory.intrinsic+json": {
              "type": "string"
            }
          },
          "metadata": {},
          "execution_count": 2
        }
      ]
    },
    {
      "cell_type": "code",
      "source": [
        "'''36. Develop a program that calculates the sum of the digits of a factorial of numbers from 1 to 5 using list\n",
        "comprehension.'''\n",
        "ret=''\n",
        "for i in range(1,6):\n",
        "  fact=1\n",
        "  for j in range(1,i+1):\n",
        "    fact = fact*j\n",
        "  ret = ret + str(fact)\n",
        "ret\n",
        "sum([int(i) for i in ret])"
      ],
      "metadata": {
        "colab": {
          "base_uri": "https://localhost:8080/"
        },
        "id": "z3OCw2oZkbe5",
        "outputId": "6d00db68-4ce1-4dde-e400-5d64d0100403"
      },
      "execution_count": 12,
      "outputs": [
        {
          "output_type": "execute_result",
          "data": {
            "text/plain": [
              "18"
            ]
          },
          "metadata": {},
          "execution_count": 12
        }
      ]
    },
    {
      "cell_type": "code",
      "source": [
        "'''37. Write a program that finds the longest word in a sentence using list comprehension.'''\n",
        "lst= ['as', 'asf','aaadfdfd', 'aab']\n",
        "max(lst, key=lambda x: len(x))"
      ],
      "metadata": {
        "colab": {
          "base_uri": "https://localhost:8080/",
          "height": 35
        },
        "id": "lKqNC2TCkbi2",
        "outputId": "03465a40-ab09-46ac-abc5-dc181e63cd19"
      },
      "execution_count": 16,
      "outputs": [
        {
          "output_type": "execute_result",
          "data": {
            "text/plain": [
              "'aaadfdfd'"
            ],
            "application/vnd.google.colaboratory.intrinsic+json": {
              "type": "string"
            }
          },
          "metadata": {},
          "execution_count": 16
        }
      ]
    },
    {
      "cell_type": "code",
      "source": [
        "'''38. Create a program that filters a list of strings to include only those with more than three vowels using list\n",
        "comprehension.'''\n",
        "lst = ['aabe', 'aaaagdsdf', 'avc']\n",
        "def count_vowel(str):\n",
        "  return sum([1 for char in str if char in 'aeiou'])\n",
        "lst2 = [s for s in lst if count_vowel(s)>3]\n",
        "lst2"
      ],
      "metadata": {
        "colab": {
          "base_uri": "https://localhost:8080/"
        },
        "id": "tHeg6opFh56P",
        "outputId": "f153f09e-68d6-435f-e0ef-e4ae81c7e857"
      },
      "execution_count": 24,
      "outputs": [
        {
          "output_type": "execute_result",
          "data": {
            "text/plain": [
              "['aaaagdsdf']"
            ]
          },
          "metadata": {},
          "execution_count": 24
        }
      ]
    },
    {
      "cell_type": "code",
      "source": [
        "'''39. Develop a program that calculates the sum of the digits of numbers from 1 to 1000 using list\n",
        "comprehension.'''\n",
        "lst = ([str(i) for i in range(1,1001)])\n",
        "strn = ''.join(lst)\n",
        "sum([int(i) for i in strn])"
      ],
      "metadata": {
        "colab": {
          "base_uri": "https://localhost:8080/"
        },
        "id": "SFbO2Cfih5-g",
        "outputId": "f44e1e0b-5567-4aac-8446-b30f5098d2bc"
      },
      "execution_count": 30,
      "outputs": [
        {
          "output_type": "execute_result",
          "data": {
            "text/plain": [
              "13501"
            ]
          },
          "metadata": {},
          "execution_count": 30
        }
      ]
    },
    {
      "cell_type": "code",
      "source": [
        "'''40. Write a program that generates a list of prime palindromic numbers using list comprehension.'''\n",
        "def is_prime(n):\n",
        "  if n<=1:\n",
        "    return False\n",
        "  else:\n",
        "    for i in range(2, int(n/2)+1):\n",
        "      if n%i==0:\n",
        "        return False\n",
        "  return True\n",
        "\n",
        "def is_palindrome(n):\n",
        "  n=str(n)\n",
        "  for i in range(int(len(n)/2)+1):\n",
        "    if n[i]==n[-i-1]:\n",
        "      pass\n",
        "    else:\n",
        "      return False\n",
        "  return True\n",
        "\n",
        "lst=[]\n",
        "i=1\n",
        "while len(lst)<=10:\n",
        "  if is_palindrome(i) and is_prime(i):\n",
        "    lst.append(i)\n",
        "  i+=1\n",
        "lst\n"
      ],
      "metadata": {
        "colab": {
          "base_uri": "https://localhost:8080/"
        },
        "id": "sqbZilDUh6B3",
        "outputId": "a5c729b5-2418-488a-80c8-5c6b730aa993"
      },
      "execution_count": 38,
      "outputs": [
        {
          "output_type": "execute_result",
          "data": {
            "text/plain": [
              "[2, 3, 5, 7, 11, 101, 131, 151, 181, 191, 313]"
            ]
          },
          "metadata": {},
          "execution_count": 38
        }
      ]
    },
    {
      "cell_type": "code",
      "source": [],
      "metadata": {
        "id": "oPTd12MFh6Fv"
      },
      "execution_count": 38,
      "outputs": []
    }
  ]
}