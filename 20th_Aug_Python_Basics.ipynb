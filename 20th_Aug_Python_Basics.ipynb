{
  "cells": [
    {
      "cell_type": "markdown",
      "metadata": {
        "id": "view-in-github",
        "colab_type": "text"
      },
      "source": [
        "<a href=\"https://colab.research.google.com/github/ashokgupta1810/fsdspro/blob/main/20th_Aug_Python_Basics.ipynb\" target=\"_parent\"><img src=\"https://colab.research.google.com/assets/colab-badge.svg\" alt=\"Open In Colab\"/></a>"
      ]
    },
    {
      "cell_type": "code",
      "source": [
        "### TOPIC: String Based Assignment Problem"
      ],
      "metadata": {
        "id": "mXJKTR7wgG4L"
      },
      "execution_count": null,
      "outputs": []
    },
    {
      "cell_type": "code",
      "execution_count": null,
      "metadata": {
        "colab": {
          "base_uri": "https://localhost:8080/"
        },
        "id": "uBVZewTmcYEB",
        "outputId": "37b77d7c-6a90-4019-ba61-7fa142636654"
      },
      "outputs": [
        {
          "name": "stdout",
          "output_type": "stream",
          "text": [
            "1st way by reverse jump: erolagnaB\n",
            "2nd way by loop: erolagnaB\n",
            "3rd way by loop: erolagnaB\n"
          ]
        }
      ],
      "source": [
        "'''1. Write a program to reverse a string.'''\n",
        "string = 'Bangalore'\n",
        "#1\n",
        "rev_string = string[::-1]\n",
        "print(\"1st way by reverse jump:\", rev_string)\n",
        "#2\n",
        "rev_string=\"\"\n",
        "for s in string:\n",
        "  rev_string = s+rev_string\n",
        "print(\"2nd way by loop:\", ''.join(rev_string))\n",
        "#3\n",
        "rev_string=[string[i] for i in range(len(string)-1,-1,-1)]\n",
        "rev_string=''.join(rev_string)\n",
        "print(\"3rd way by loop:\", ''.join(rev_string))"
      ]
    },
    {
      "cell_type": "code",
      "execution_count": null,
      "metadata": {
        "colab": {
          "base_uri": "https://localhost:8080/"
        },
        "id": "H1Mx8AVDlSdm",
        "outputId": "64d9fee3-d146-4ee4-fbc2-20f2c0f61be5"
      },
      "outputs": [
        {
          "name": "stdout",
          "output_type": "stream",
          "text": [
            "BsangagnasB is palindrome\n",
            "BsangagnasB is palindrome\n"
          ]
        }
      ],
      "source": [
        "'''2. Check if a string is a palindrome.'''\n",
        "string = 'BsangagnasB'\n",
        "#1\n",
        "if string[::-1]==string:\n",
        "  print(f\"{string} is palindrome\")\n",
        "else:\n",
        "  print(f\"{string} is not a palindrome\")\n",
        "#2\n",
        "for i in range(int(len(string)/2)):\n",
        "  if string[i]==string[len(string)-i-1]:\n",
        "    continue\n",
        "  else:\n",
        "    break\n",
        "if i==int(len(string)/2)-1:\n",
        "  print(f\"{string} is palindrome\")\n",
        "else:\n",
        "  print(f\"{string} is not a palindrome\")"
      ]
    },
    {
      "cell_type": "code",
      "execution_count": null,
      "metadata": {
        "colab": {
          "base_uri": "https://localhost:8080/"
        },
        "id": "WcnkiaFklvsn",
        "outputId": "b9c9c621-e287-415a-bcc6-ad0e34448c17"
      },
      "outputs": [
        {
          "name": "stdout",
          "output_type": "stream",
          "text": [
            "upper case, BANGALORE\n"
          ]
        }
      ],
      "source": [
        "'''3. Convert a string to uppercase.'''\n",
        "string = 'Bangalore'\n",
        "upper_string = string.upper()\n",
        "print(f\"upper case: {upper_string}\")"
      ]
    },
    {
      "cell_type": "code",
      "execution_count": null,
      "metadata": {
        "colab": {
          "base_uri": "https://localhost:8080/"
        },
        "id": "B0GieGEc9285",
        "outputId": "850752d7-e44f-4f4a-f206-a07ac745573c"
      },
      "outputs": [
        {
          "name": "stdout",
          "output_type": "stream",
          "text": [
            "lower case: bangalore\n"
          ]
        }
      ],
      "source": [
        "'''4. Convert a string to lowercase.'''\n",
        "string = 'Bangalore'\n",
        "lower_string = string.lower()\n",
        "print(f\"lower case: {lower_string}\")"
      ]
    },
    {
      "cell_type": "code",
      "execution_count": null,
      "metadata": {
        "colab": {
          "base_uri": "https://localhost:8080/"
        },
        "id": "6bQj3esC-DlX",
        "outputId": "ddd16044-4c79-4f0f-db55-3180b7d7a861"
      },
      "outputs": [
        {
          "name": "stdout",
          "output_type": "stream",
          "text": [
            "Count of vowels in string Bangalore is 4\n"
          ]
        }
      ],
      "source": [
        "'''5. Count the number of vowels in a string.'''\n",
        "string = 'Bangalore'\n",
        "vowel = [v for v in string if v in 'aeiou']\n",
        "print(f\"Count of vowels in string {string} is {len(vowel)}\")"
      ]
    },
    {
      "cell_type": "code",
      "execution_count": null,
      "metadata": {
        "colab": {
          "base_uri": "https://localhost:8080/"
        },
        "id": "QL0TTebP-jtT",
        "outputId": "0af13602-4790-4ebc-fba3-9a7fe4fb4ab1"
      },
      "outputs": [
        {
          "name": "stdout",
          "output_type": "stream",
          "text": [
            "Count of consonants in string Bangalore is 5\n"
          ]
        }
      ],
      "source": [
        "'''6. Count the number of consonants in a string.'''\n",
        "string = 'Bangalore'\n",
        "consonants = [v for v in string if v not in 'aeiou']\n",
        "print(f\"Count of consonants in string {string} is {len(consonants)}\")"
      ]
    },
    {
      "cell_type": "code",
      "execution_count": null,
      "metadata": {
        "colab": {
          "base_uri": "https://localhost:8080/"
        },
        "id": "25gwCXSe-yoG",
        "outputId": "400969fa-3e52-41ec-b572-eb69b4625846"
      },
      "outputs": [
        {
          "name": "stdout",
          "output_type": "stream",
          "text": [
            "Originial string \"Bangalore is nice city\" and without space string is: \"Bangaloreisnicecity\" \n"
          ]
        }
      ],
      "source": [
        "'''7. Remove all whitespaces from a string.'''\n",
        "string = 'Bangalore is nice city'\n",
        "print(f\"\"\"Originial string \"{string}\" and without space string is: \"{string.replace(' ',\"\")}\" \"\"\")"
      ]
    },
    {
      "cell_type": "code",
      "execution_count": null,
      "metadata": {
        "colab": {
          "base_uri": "https://localhost:8080/"
        },
        "id": "bhTE5AZ8_bEf",
        "outputId": "c51ebbd7-340b-4383-b8ab-f09465abcf33"
      },
      "outputs": [
        {
          "name": "stdout",
          "output_type": "stream",
          "text": [
            "Length of string: 22\n"
          ]
        }
      ],
      "source": [
        "'''8. Find the length of a string without using the `len()` function.'''\n",
        "string = 'Bangalore is nice city'\n",
        "l=0\n",
        "for s in string:\n",
        "  l=l+1\n",
        "print(f\"Length of string: {l}\")"
      ]
    },
    {
      "cell_type": "code",
      "execution_count": null,
      "metadata": {
        "colab": {
          "base_uri": "https://localhost:8080/"
        },
        "id": "m518i3Fm_4JI",
        "outputId": "022d832d-5eaa-4b81-b55a-43efd2ccabd1"
      },
      "outputs": [
        {
          "name": "stdout",
          "output_type": "stream",
          "text": [
            "nice exists in string: Bangalore is nice city\n",
            "nice exists in string: Bangalore is nice city\n"
          ]
        }
      ],
      "source": [
        "'''9. Check if a string contains a specific word.'''\n",
        "string = 'Bangalore is nice city'\n",
        "spec_word=\"nice\"\n",
        "if string.find(spec_word)>-1:\n",
        "  print(f\"{spec_word} exists in string: {string}\")\n",
        "else:\n",
        "  print(f\"{spec_word} does not exists in string: {string}\")\n",
        "#2\n",
        "if spec_word in string:\n",
        "  print(f\"{spec_word} exists in string: {string}\")\n",
        "else:\n",
        "  print(f\"{spec_word} does not exists in string: {string}\")"
      ]
    },
    {
      "cell_type": "code",
      "execution_count": null,
      "metadata": {
        "colab": {
          "base_uri": "https://localhost:8080/"
        },
        "id": "MfZyK3VG_4N-",
        "outputId": "82b0e236-135b-43db-91b2-d0a46f1f034b"
      },
      "outputs": [
        {
          "name": "stdout",
          "output_type": "stream",
          "text": [
            "New string after replace is: Bangalore another word is nice city\n"
          ]
        }
      ],
      "source": [
        "'''10. Replace a word in a string with another word.'''\n",
        "string = 'Bangalore word is nice city'\n",
        "print(f'''New string after replace is: {string.replace(\"word\", \"another word\")}''')"
      ]
    },
    {
      "cell_type": "code",
      "execution_count": null,
      "metadata": {
        "colab": {
          "base_uri": "https://localhost:8080/"
        },
        "id": "2t1au3Xm_4Rv",
        "outputId": "fd5c892d-1cd8-45e9-fdc9-53e010455e4a"
      },
      "outputs": [
        {
          "name": "stdout",
          "output_type": "stream",
          "text": [
            "word occurs 2 times in string: Bangalore word is nice word city\n"
          ]
        }
      ],
      "source": [
        "'''11. Count the occurrences of a word in a string.'''\n",
        "string = 'Bangalore word is nice word city'\n",
        "spec_word=\"word\"\n",
        "occ = [word for word in string.split(\" \") if word==spec_word]\n",
        "print(f'''{spec_word} occurs {len(occ)} times in string: {string}''')"
      ]
    },
    {
      "cell_type": "code",
      "execution_count": null,
      "metadata": {
        "colab": {
          "base_uri": "https://localhost:8080/"
        },
        "id": "QIReN3MKDa17",
        "outputId": "2196b561-cbd3-4d74-a521-b66c314c2734"
      },
      "outputs": [
        {
          "name": "stdout",
          "output_type": "stream",
          "text": [
            "First occurance of word 'word' in string 'Bangalore word is nice word city' is 10 \n"
          ]
        }
      ],
      "source": [
        "'''12. Find the first occurrence of a word in a string.'''\n",
        "string = 'Bangalore word is nice word city'\n",
        "spec_word=\"word\"\n",
        "print(f\"First occurance of word '{spec_word}' in string '{string}' is {string.find(spec_word)} \")"
      ]
    },
    {
      "cell_type": "code",
      "execution_count": null,
      "metadata": {
        "colab": {
          "base_uri": "https://localhost:8080/"
        },
        "id": "5gHD5U2hDa-L",
        "outputId": "f3aaf726-e0fe-44ae-a133-f084c7f662ad"
      },
      "outputs": [
        {
          "name": "stdout",
          "output_type": "stream",
          "text": [
            "First occurance of word 'word' in string 'Bangalore word is nice word city' is 23 \n"
          ]
        }
      ],
      "source": [
        "'''13. Find the last occurrence of a word in a word string.'''\n",
        "string = 'Bangalore word is nice word city'\n",
        "spec_word=\"word\"\n",
        "print(f\"First occurance of word '{spec_word}' in string '{string}' is {string.rfind(spec_word)} \")\n"
      ]
    },
    {
      "cell_type": "code",
      "execution_count": null,
      "metadata": {
        "colab": {
          "base_uri": "https://localhost:8080/"
        },
        "id": "1B34eRU-DbC3",
        "outputId": "84ab24f9-8b5f-4beb-e3e3-c24535c68999"
      },
      "outputs": [
        {
          "name": "stdout",
          "output_type": "stream",
          "text": [
            "Words in string 'Bangalore word is nice word city' are ['Bangalore', 'word', 'is', 'nice', 'word', 'city'] \n"
          ]
        }
      ],
      "source": [
        "'''14. Split a string into a list of words.'''\n",
        "string = 'Bangalore word is nice word city'\n",
        "spec_word=\"word\"\n",
        "print(f\"Words in string '{string}' are {string.split(' ')} \")"
      ]
    },
    {
      "cell_type": "code",
      "execution_count": null,
      "metadata": {
        "colab": {
          "base_uri": "https://localhost:8080/"
        },
        "id": "TaAZt3m7IjWi",
        "outputId": "44ae0809-1cb9-436d-a1b5-6fde9ccf08b6"
      },
      "outputs": [
        {
          "name": "stdout",
          "output_type": "stream",
          "text": [
            "String is Bangalore word is nice word city\n"
          ]
        }
      ],
      "source": [
        "'''15. Join a list of words into a string.'''\n",
        "words=['Bangalore', 'word', 'is', 'nice', 'word', 'city']\n",
        "string = ' '.join(words)\n",
        "print(f\"String is {string}\")"
      ]
    },
    {
      "cell_type": "code",
      "execution_count": null,
      "metadata": {
        "colab": {
          "base_uri": "https://localhost:8080/"
        },
        "id": "GesBIH1iIjaO",
        "outputId": "72f5deab-b02e-4e72-ac17-92bf101cb138"
      },
      "outputs": [
        {
          "name": "stdout",
          "output_type": "stream",
          "text": [
            "New string is'Bangalore_word_is_nice_word_city'\n"
          ]
        }
      ],
      "source": [
        "'''16. Convert a string where words are separated by spaces to one where words are separated by underscores.'''\n",
        "string = 'Bangalore word is nice word city'\n",
        "new_string=string.replace(' ','_')\n",
        "print(f\"New string is'{new_string}'\")\n"
      ]
    },
    {
      "cell_type": "code",
      "execution_count": null,
      "metadata": {
        "colab": {
          "base_uri": "https://localhost:8080/"
        },
        "id": "pWmrp4XYJLIm",
        "outputId": "af6e3597-f2d7-4be1-8284-289cefd01386"
      },
      "outputs": [
        {
          "name": "stdout",
          "output_type": "stream",
          "text": [
            "Bangalore word is nice word city does not starts with word SB\n"
          ]
        }
      ],
      "source": [
        "'''17. Check if a string starts with a specific word or phrase.'''\n",
        "string = 'Bangalore word is nice word city'\n",
        "spec_word =\"SB\"\n",
        "if string.startswith(spec_word):\n",
        "  print(f\"{string} starts with word {spec_word}\")\n",
        "else:\n",
        "    print(f\"{string} does not starts with word {spec_word}\")"
      ]
    },
    {
      "cell_type": "code",
      "execution_count": null,
      "metadata": {
        "colab": {
          "base_uri": "https://localhost:8080/"
        },
        "id": "4Erp_MirJLME",
        "outputId": "e667ca8e-3c9b-4b5d-9f94-696d1edd7796"
      },
      "outputs": [
        {
          "name": "stdout",
          "output_type": "stream",
          "text": [
            "Bangalore word is nice word city ends with word city\n"
          ]
        }
      ],
      "source": [
        "'''18. Check if a string ends with a specific word or phrase.'''\n",
        "string = 'Bangalore word is nice word city'\n",
        "spec_word =\"city\"\n",
        "if string.endswith(spec_word):\n",
        "  print(f\"{string} ends with word {spec_word}\")\n",
        "else:\n",
        "    print(f\"{string} does not ends with word {spec_word}\")"
      ]
    },
    {
      "cell_type": "code",
      "execution_count": null,
      "metadata": {
        "colab": {
          "base_uri": "https://localhost:8080/"
        },
        "id": "2hEmDA8mLuSj",
        "outputId": "7875bd35-446d-4b89-c4fd-72778499e52d"
      },
      "outputs": [
        {
          "name": "stdout",
          "output_type": "stream",
          "text": [
            "Title case string is Bangalore Word Is Nice Word City\n"
          ]
        }
      ],
      "source": [
        "'''19. Convert a string to title case (e.g., \"hello world\" to \"Hello World\").'''\n",
        "string = 'Bangalore word is nice word city'\n",
        "print(f\"Title case string is {string.title()}\")"
      ]
    },
    {
      "cell_type": "code",
      "execution_count": null,
      "metadata": {
        "colab": {
          "base_uri": "https://localhost:8080/"
        },
        "id": "kliPWB_fLuWX",
        "outputId": "5ac3ccb4-28d6-43ac-fed8-e9348fca6c09"
      },
      "outputs": [
        {
          "name": "stdout",
          "output_type": "stream",
          "text": [
            "longest word in string Bangalore\n"
          ]
        }
      ],
      "source": [
        "'''20. Find the longest word in a string.'''\n",
        "string = 'Bangalore word is nice word city'\n",
        "print(f\"longest word in string {max(string.split(' '), key=len)}\")"
      ]
    },
    {
      "cell_type": "code",
      "execution_count": null,
      "metadata": {
        "colab": {
          "base_uri": "https://localhost:8080/"
        },
        "id": "rCxlxWBQJLP8",
        "outputId": "9043038c-e59d-4c2c-80ee-c1debe3ab704"
      },
      "outputs": [
        {
          "name": "stdout",
          "output_type": "stream",
          "text": [
            "shortest word in string is\n"
          ]
        }
      ],
      "source": [
        "from IPython.core.inputtransformer2 import leading_empty_lines\n",
        "'''21. Find the shortest word in a string.'''\n",
        "string = 'Bangalore word is nice word city'\n",
        "print(f\"shortest word in string {min(string.split(' '), key=len)}\")"
      ]
    },
    {
      "cell_type": "code",
      "execution_count": null,
      "metadata": {
        "colab": {
          "base_uri": "https://localhost:8080/"
        },
        "id": "u_bg35QxNaJH",
        "outputId": "3fd2de04-f558-4b40-85dd-addf1df97600"
      },
      "outputs": [
        {
          "name": "stdout",
          "output_type": "stream",
          "text": [
            "Reversed string is city word nice is word Bangalore\n"
          ]
        }
      ],
      "source": [
        "'''22. Reverse the order of words in a string.'''\n",
        "string = 'Bangalore word is nice word city'\n",
        "string_lst = string.split()\n",
        "string_lst.reverse()\n",
        "print(f\"Reversed string is {' '.join(string_lst)}\")"
      ]
    },
    {
      "cell_type": "code",
      "execution_count": null,
      "metadata": {
        "colab": {
          "base_uri": "https://localhost:8080/"
        },
        "id": "c_LKWlUTQwHJ",
        "outputId": "b940b87e-e410-43cc-e7d4-20f6e6cb576d"
      },
      "outputs": [
        {
          "name": "stdout",
          "output_type": "stream",
          "text": [
            "Is string alphanumeric: False\n"
          ]
        }
      ],
      "source": [
        "'''23. Check if a string is alphanumeric.'''\n",
        "string = 'Bangalore word is nice word city'\n",
        "print(f\"Is string alphanumeric: {string.isalnum()}\")"
      ]
    },
    {
      "cell_type": "code",
      "execution_count": null,
      "metadata": {
        "colab": {
          "base_uri": "https://localhost:8080/"
        },
        "id": "z2667dpWT_Ly",
        "outputId": "20645d2b-58fa-43f9-911a-f0925deb9a5d"
      },
      "outputs": [
        {
          "name": "stdout",
          "output_type": "stream",
          "text": [
            "Avilable digits:{0, 1}\n"
          ]
        }
      ],
      "source": [
        "'''24. Extract all digits from a string.'''\n",
        "string = 'Bangalore 001 word is nice word city'\n",
        "num = [int(n) for n in string if n.isdigit()==True]\n",
        "print(f\"Avilable digits:{set(num)}\")"
      ]
    },
    {
      "cell_type": "code",
      "execution_count": null,
      "metadata": {
        "colab": {
          "base_uri": "https://localhost:8080/"
        },
        "id": "FY1mrQDCT_PV",
        "outputId": "9cfd3bc9-c7f9-438c-be03-56ddea53c5aa"
      },
      "outputs": [
        {
          "name": "stdout",
          "output_type": "stream",
          "text": [
            "Avilable alphas:{'n', 's', 'B', 'r', 'a', 't', 'e', 'w', 'i', 'y', 'l', 'c', 'g', 'o', 'd'}\n"
          ]
        }
      ],
      "source": [
        "'''25. Extract all alphabets from a string.'''\n",
        "string = 'Bangalore 001 word is nice word city'\n",
        "chars = [n for n in string if n.isdigit()==False and n!=' ']\n",
        "print(f\"Avilable alphas:{set(chars)}\")"
      ]
    },
    {
      "cell_type": "code",
      "execution_count": null,
      "metadata": {
        "colab": {
          "base_uri": "https://localhost:8080/"
        },
        "id": "MoSON-kKT_Sx",
        "outputId": "9b874f34-97bb-4a20-f405-1977824bac8b"
      },
      "outputs": [
        {
          "name": "stdout",
          "output_type": "stream",
          "text": [
            "Count of Upper Case alphas:1\n"
          ]
        }
      ],
      "source": [
        "'''26. Count the number of uppercase letters in a string.'''\n",
        "string = 'Bangalore 001 word is nice word city'\n",
        "chars = [n for n in string if n.isdigit()==False and n.isupper()==True]\n",
        "print(f\"Count of Upper Case alphas:{len(chars)}\")"
      ]
    },
    {
      "cell_type": "code",
      "execution_count": null,
      "metadata": {
        "colab": {
          "base_uri": "https://localhost:8080/"
        },
        "id": "N1brUrksT_WY",
        "outputId": "d97a4c57-4d88-4d2b-d234-eb3feca80445"
      },
      "outputs": [
        {
          "name": "stdout",
          "output_type": "stream",
          "text": [
            "Count of lower case alphas:26\n"
          ]
        }
      ],
      "source": [
        "'''27. Count the number of lowercase letters in a string.'''\n",
        "string = 'Bangalore 001 word is nice word city'\n",
        "chars = [n for n in string if n.isdigit()==False and n.islower()==True]\n",
        "print(f\"Count of lower case alphas:{len(chars)}\")"
      ]
    },
    {
      "cell_type": "code",
      "execution_count": null,
      "metadata": {
        "colab": {
          "base_uri": "https://localhost:8080/"
        },
        "id": "WeJrdDZvVq77",
        "outputId": "95977d9f-3283-454b-b96e-8086fdc8c0f4"
      },
      "outputs": [
        {
          "name": "stdout",
          "output_type": "stream",
          "text": [
            "Reverse Casing :bANGALORE 001 WORD IS NICE WORD CITY\n"
          ]
        }
      ],
      "source": [
        "'''28. Swap the case of each character in a string.'''\n",
        "string = 'Bangalore 001 word is nice word city'\n",
        "chars = [n.upper() if n.isupper()==False else n.lower() for n in string]\n",
        "print(f\"Reverse Casing :{''.join(chars)}\")"
      ]
    },
    {
      "cell_type": "code",
      "execution_count": null,
      "metadata": {
        "colab": {
          "base_uri": "https://localhost:8080/"
        },
        "id": "_Hn6dUUcVrC8",
        "outputId": "69a109e9-96b7-42f7-de24-687581ed6a3a"
      },
      "outputs": [
        {
          "name": "stdout",
          "output_type": "stream",
          "text": [
            "New String: Bangalore 001 is nice city\n"
          ]
        }
      ],
      "source": [
        "'''29. Remove a specific word from a string.'''\n",
        "string = 'Bangalore 001 word is nice word city'\n",
        "spec_string=\"word\"\n",
        "new_string = [n for n in string.split(' ') if n!=spec_string]\n",
        "print(f\"New String: {' '.join(new_string)}\")"
      ]
    },
    {
      "cell_type": "code",
      "execution_count": null,
      "metadata": {
        "colab": {
          "base_uri": "https://localhost:8080/"
        },
        "id": "G5TCD-k1VrHg",
        "outputId": "b96d130b-8db6-4964-d982-a7aa42b62df1"
      },
      "outputs": [
        {
          "name": "stdout",
          "output_type": "stream",
          "text": [
            "Valid email\n"
          ]
        }
      ],
      "source": [
        "'''30. Check if a string is a valid email address.'''\n",
        "import re\n",
        "string='ashok@gmail.com'\n",
        "pat = r'\\b[A-Za-z0-9._%+-]+@[A-Za-z0-9.-]+\\.[A-Z|a-z]{2,7}\\b'\n",
        "if re.match(pat, string):\n",
        "  print(\"Valid email\")\n",
        "else:\n",
        "   print(\"Invalid email\")"
      ]
    },
    {
      "cell_type": "code",
      "execution_count": null,
      "metadata": {
        "id": "06euMzh7F7uX",
        "colab": {
          "base_uri": "https://localhost:8080/",
          "height": 35
        },
        "outputId": "1668c951-d1ae-4e8e-d83e-c83829e5b028"
      },
      "outputs": [
        {
          "output_type": "execute_result",
          "data": {
            "text/plain": [
              "'ashok'"
            ],
            "application/vnd.google.colaboratory.intrinsic+json": {
              "type": "string"
            }
          },
          "metadata": {},
          "execution_count": 1
        }
      ],
      "source": [
        "'''31. Extract the username from an email address string.'''\n",
        "string ='ashok@gmail.com'\n",
        "user_name = string.split('@')[0]\n",
        "user_name"
      ]
    },
    {
      "cell_type": "code",
      "source": [
        "'''32. Extract the domain name from an email address string.'''\n",
        "string ='ashok@gmail.com'\n",
        "domain = string.split('@')[1]\n",
        "domain"
      ],
      "metadata": {
        "colab": {
          "base_uri": "https://localhost:8080/",
          "height": 35
        },
        "id": "7T68EgM7N_ZA",
        "outputId": "2e47eb5a-a31c-4f52-a5c2-0e4a8c942486"
      },
      "execution_count": null,
      "outputs": [
        {
          "output_type": "execute_result",
          "data": {
            "text/plain": [
              "'gmail.com'"
            ],
            "application/vnd.google.colaboratory.intrinsic+json": {
              "type": "string"
            }
          },
          "metadata": {},
          "execution_count": 2
        }
      ]
    },
    {
      "cell_type": "code",
      "source": [
        "'''33. Replace multiple spaces in a string with a single space.'''\n",
        "import re\n",
        "string = 'ashok is  working in  it'\n",
        "re.sub(' +',' ', string)"
      ],
      "metadata": {
        "colab": {
          "base_uri": "https://localhost:8080/",
          "height": 35
        },
        "id": "WAqvVW_IN_c7",
        "outputId": "791780f4-7518-4151-f948-b41cc1dacf04"
      },
      "execution_count": null,
      "outputs": [
        {
          "output_type": "execute_result",
          "data": {
            "text/plain": [
              "'ashok is working in it'"
            ],
            "application/vnd.google.colaboratory.intrinsic+json": {
              "type": "string"
            }
          },
          "metadata": {},
          "execution_count": 5
        }
      ]
    },
    {
      "cell_type": "code",
      "source": [
        "'''34. Check if a string is a valid URL.'''\n",
        "string = 'abc.com'\n"
      ],
      "metadata": {
        "id": "KpgxShTwN_gS"
      },
      "execution_count": null,
      "outputs": []
    },
    {
      "cell_type": "code",
      "source": [
        "'''35. Extract the protocol (http or https) from a URL string.'''\n",
        "string = 'http:\\\\abc.com'\n",
        "string.split(\":\")[0]"
      ],
      "metadata": {
        "colab": {
          "base_uri": "https://localhost:8080/",
          "height": 35
        },
        "id": "zDyUozQjN_jk",
        "outputId": "47b50a2d-f82c-4d00-81f5-1ec8b7fc721b"
      },
      "execution_count": null,
      "outputs": [
        {
          "output_type": "execute_result",
          "data": {
            "text/plain": [
              "'http'"
            ],
            "application/vnd.google.colaboratory.intrinsic+json": {
              "type": "string"
            }
          },
          "metadata": {},
          "execution_count": 7
        }
      ]
    },
    {
      "cell_type": "code",
      "source": [
        "'''36. Find the frequency of each character in a string.'''\n",
        "string = 'apple'\n",
        "freq ={}\n",
        "for i in string:\n",
        "  if i in freq:\n",
        "    freq[i]+=1\n",
        "  else:\n",
        "    freq[i]=1\n",
        "freq\n"
      ],
      "metadata": {
        "colab": {
          "base_uri": "https://localhost:8080/"
        },
        "id": "0zYxG8A1N_m9",
        "outputId": "f443f7f8-bba9-4f7b-d712-0c88a52a272b"
      },
      "execution_count": null,
      "outputs": [
        {
          "output_type": "execute_result",
          "data": {
            "text/plain": [
              "{'a': 1, 'p': 2, 'l': 1, 'e': 1}"
            ]
          },
          "metadata": {},
          "execution_count": 8
        }
      ]
    },
    {
      "cell_type": "code",
      "source": [
        "'''37. Remove all punctuation from a string.'''\n",
        "string = 'ashok@gmail.com'\n",
        "re.sub(r'[^\\w\\s]','', string)"
      ],
      "metadata": {
        "colab": {
          "base_uri": "https://localhost:8080/",
          "height": 35
        },
        "id": "H90c8kzmN_qP",
        "outputId": "935cc6a0-b0ef-433f-93a2-22601bec03ec"
      },
      "execution_count": null,
      "outputs": [
        {
          "output_type": "execute_result",
          "data": {
            "text/plain": [
              "'ashokgmailcom'"
            ],
            "application/vnd.google.colaboratory.intrinsic+json": {
              "type": "string"
            }
          },
          "metadata": {},
          "execution_count": 9
        }
      ]
    },
    {
      "cell_type": "code",
      "source": [
        "'''38. Check if a string contains only digits.'''\n",
        "string = '1234a'\n",
        "string.isdigit()"
      ],
      "metadata": {
        "colab": {
          "base_uri": "https://localhost:8080/"
        },
        "id": "sUACcIwoN_t4",
        "outputId": "1a29b937-d1e7-4bc1-ca65-27f66183b541"
      },
      "execution_count": null,
      "outputs": [
        {
          "output_type": "execute_result",
          "data": {
            "text/plain": [
              "False"
            ]
          },
          "metadata": {},
          "execution_count": 11
        }
      ]
    },
    {
      "cell_type": "code",
      "source": [
        "'''39. Check if a string contains only alphabets.'''\n",
        "string ='abv'\n",
        "string.isalpha()"
      ],
      "metadata": {
        "colab": {
          "base_uri": "https://localhost:8080/"
        },
        "id": "_cGTPNMCStRF",
        "outputId": "217a069e-fad8-423e-a41d-aeffe72f31d8"
      },
      "execution_count": null,
      "outputs": [
        {
          "output_type": "execute_result",
          "data": {
            "text/plain": [
              "True"
            ]
          },
          "metadata": {},
          "execution_count": 13
        }
      ]
    },
    {
      "cell_type": "code",
      "source": [
        "'''40. Convert a string to a list of characters.'''\n",
        "string='ashok'\n",
        "list(string)"
      ],
      "metadata": {
        "colab": {
          "base_uri": "https://localhost:8080/"
        },
        "id": "zk6_RcIvStT_",
        "outputId": "05c51606-1935-45eb-c8f3-4ae4c97b92d0"
      },
      "execution_count": null,
      "outputs": [
        {
          "output_type": "execute_result",
          "data": {
            "text/plain": [
              "['a', 's', 'h', 'o', 'k']"
            ]
          },
          "metadata": {},
          "execution_count": 17
        }
      ]
    },
    {
      "cell_type": "code",
      "source": [
        "'''41. Check if two strings are anagrams.'''\n",
        "str1 = 'ashok'\n",
        "str2 = 'sahok'\n",
        "sorted(str1) == sorted(str2)"
      ],
      "metadata": {
        "colab": {
          "base_uri": "https://localhost:8080/"
        },
        "id": "gZK1MzvvStWt",
        "outputId": "ea2570c1-de09-455a-b415-52ad445376b2"
      },
      "execution_count": null,
      "outputs": [
        {
          "output_type": "execute_result",
          "data": {
            "text/plain": [
              "True"
            ]
          },
          "metadata": {},
          "execution_count": 21
        }
      ]
    },
    {
      "cell_type": "code",
      "source": [
        "'''42. Encode a string using a Caesar cipher.'''\n"
      ],
      "metadata": {
        "id": "VHE1ITvPStZm"
      },
      "execution_count": null,
      "outputs": []
    },
    {
      "cell_type": "code",
      "source": [
        "'''43. Decode a Caesar cipher encoded string.'''"
      ],
      "metadata": {
        "id": "15nSk-7EStco"
      },
      "execution_count": null,
      "outputs": []
    },
    {
      "cell_type": "code",
      "source": [
        "'''44. Find the most frequent word in a string.'''\n",
        "string ='apple is the fruit is th'\n",
        "freq={}\n",
        "for i in string.split():\n",
        "  if i in freq:\n",
        "    freq[i]+=1\n",
        "  else:\n",
        "    freq[i]=1\n",
        "counts_x = sorted(freq.items(), key=lambda kv: kv[1])\n",
        "counts_x[-1][0]"
      ],
      "metadata": {
        "colab": {
          "base_uri": "https://localhost:8080/",
          "height": 35
        },
        "id": "5iJ55eq5StgF",
        "outputId": "3ab71f47-387d-43a1-a46d-d9640b5db0f5"
      },
      "execution_count": null,
      "outputs": [
        {
          "output_type": "execute_result",
          "data": {
            "text/plain": [
              "'is'"
            ],
            "application/vnd.google.colaboratory.intrinsic+json": {
              "type": "string"
            }
          },
          "metadata": {},
          "execution_count": 35
        }
      ]
    },
    {
      "cell_type": "code",
      "execution_count": null,
      "metadata": {
        "colab": {
          "base_uri": "https://localhost:8080/"
        },
        "id": "Q-ZeRYdlF7z2",
        "outputId": "f7c228f1-12e6-4cef-cd39-3bcc77336619"
      },
      "outputs": [
        {
          "output_type": "execute_result",
          "data": {
            "text/plain": [
              "{'going', 'is', 'plane', 'the'}"
            ]
          },
          "metadata": {},
          "execution_count": 36
        }
      ],
      "source": [
        "'''45. Find all unique words in a string.'''\n",
        "string = 'the plane is the going'\n",
        "sett = set(string.split())\n",
        "sett"
      ]
    },
    {
      "cell_type": "code",
      "execution_count": null,
      "metadata": {
        "id": "P6ijAwWLF76k"
      },
      "outputs": [],
      "source": [
        "'''46. Count the number of syllables in a string.'''\n",
        "string ='ashok'"
      ]
    },
    {
      "cell_type": "code",
      "execution_count": null,
      "metadata": {
        "colab": {
          "base_uri": "https://localhost:8080/"
        },
        "id": "Z-9OXW8HF7_9",
        "outputId": "40fd0ba7-3fec-4066-8609-22068fcf604f"
      },
      "outputs": [
        {
          "output_type": "execute_result",
          "data": {
            "text/plain": [
              "True"
            ]
          },
          "metadata": {},
          "execution_count": 39
        }
      ],
      "source": [
        "'''47. Check if a string contains any special characters.'''\n",
        "string = 'ashok@gmail.com'\n",
        "special_characters = '''!@#$%^&*()-+?_=,<>/'\"'''\n",
        "any(s in string for s in special_characters)"
      ]
    },
    {
      "cell_type": "code",
      "source": [
        "'''48. Remove the nth word from a string.'''\n",
        "string = 'ashok'\n",
        "n=2\n",
        "st= list(string)\n",
        "del st[n]\n",
        "''.join(st)"
      ],
      "metadata": {
        "colab": {
          "base_uri": "https://localhost:8080/",
          "height": 35
        },
        "id": "64E1mRNfaBi-",
        "outputId": "3778b45f-3211-48b3-9356-7a278fd80a70"
      },
      "execution_count": null,
      "outputs": [
        {
          "output_type": "execute_result",
          "data": {
            "text/plain": [
              "'asok'"
            ],
            "application/vnd.google.colaboratory.intrinsic+json": {
              "type": "string"
            }
          },
          "metadata": {},
          "execution_count": 42
        }
      ]
    },
    {
      "cell_type": "code",
      "source": [
        "'''49. Insert a word at the nth position in a string.'''\n",
        "string ='asok'\n",
        "n=2\n",
        "string[:n]+'h'+string[n:]"
      ],
      "metadata": {
        "colab": {
          "base_uri": "https://localhost:8080/",
          "height": 35
        },
        "id": "rGGOcjUpaBmk",
        "outputId": "0267b513-ca10-4a3d-d47c-68d8adcda466"
      },
      "execution_count": null,
      "outputs": [
        {
          "output_type": "execute_result",
          "data": {
            "text/plain": [
              "'ashok'"
            ],
            "application/vnd.google.colaboratory.intrinsic+json": {
              "type": "string"
            }
          },
          "metadata": {},
          "execution_count": 46
        }
      ]
    },
    {
      "cell_type": "code",
      "source": [
        "'''50. Convert a CSV string to a list of lists.'''\n",
        "string = 'ashok, chris, sud'\n",
        "lst = list(string.split(','))\n",
        "lst"
      ],
      "metadata": {
        "colab": {
          "base_uri": "https://localhost:8080/"
        },
        "id": "fVWVLgQcaBpw",
        "outputId": "c73ac878-d797-4854-fc02-aa1230011069"
      },
      "execution_count": null,
      "outputs": [
        {
          "output_type": "execute_result",
          "data": {
            "text/plain": [
              "['ashok', ' chris', ' sud']"
            ]
          },
          "metadata": {},
          "execution_count": 48
        }
      ]
    },
    {
      "cell_type": "code",
      "source": [],
      "metadata": {
        "id": "DGdxI3_xaBs5"
      },
      "execution_count": null,
      "outputs": []
    },
    {
      "cell_type": "code",
      "source": [
        "### TOPIC #2: List Based Practice Problem :"
      ],
      "metadata": {
        "id": "cqjLYoHfaBwC"
      },
      "execution_count": null,
      "outputs": []
    },
    {
      "cell_type": "code",
      "source": [
        "'''1. Create a list with integers from 1 to 10.'''\n",
        "lst = [i for i in range(1,11)]\n",
        "lst\n"
      ],
      "metadata": {
        "id": "3V-CRWsDaBzT",
        "colab": {
          "base_uri": "https://localhost:8080/"
        },
        "outputId": "91ea23e9-3eb3-423d-8300-b03fb922542b"
      },
      "execution_count": null,
      "outputs": [
        {
          "output_type": "execute_result",
          "data": {
            "text/plain": [
              "[1, 2, 3, 4, 5, 6, 7, 8, 9, 10]"
            ]
          },
          "metadata": {},
          "execution_count": 2
        }
      ]
    },
    {
      "cell_type": "code",
      "source": [
        "'''2. Find the length of a list without using the `len()` function.'''\n",
        "lst = [i for i in range(1,11)]\n",
        "def leng(lst):\n",
        "  n=0\n",
        "  for _ in lst:\n",
        "    n+=1\n",
        "  return n\n",
        "leng(lst)"
      ],
      "metadata": {
        "id": "Rewlb1ypaB6K",
        "colab": {
          "base_uri": "https://localhost:8080/"
        },
        "outputId": "1896ba70-dcfa-422e-f4ed-e75b2971a3ef"
      },
      "execution_count": null,
      "outputs": [
        {
          "output_type": "execute_result",
          "data": {
            "text/plain": [
              "10"
            ]
          },
          "metadata": {},
          "execution_count": 3
        }
      ]
    },
    {
      "cell_type": "code",
      "source": [
        "'''3. Append an element to the end of a list.'''\n",
        "lst = [i for i in range(1,11)]\n",
        "lst.append(12)\n",
        "lst"
      ],
      "metadata": {
        "colab": {
          "base_uri": "https://localhost:8080/"
        },
        "id": "JoYZagTcQjmf",
        "outputId": "279523e3-1259-41dc-c1e1-978e139ab0d8"
      },
      "execution_count": null,
      "outputs": [
        {
          "output_type": "execute_result",
          "data": {
            "text/plain": [
              "[1, 2, 3, 4, 5, 6, 7, 8, 9, 10, 12]"
            ]
          },
          "metadata": {},
          "execution_count": 4
        }
      ]
    },
    {
      "cell_type": "code",
      "source": [
        "'''4. Insert an element at a specific index in a list.'''\n",
        "lst = [i for i in range(1,11)]\n",
        "lst.insert(1,12)\n",
        "lst"
      ],
      "metadata": {
        "colab": {
          "base_uri": "https://localhost:8080/"
        },
        "id": "l9b3fwjeQjs7",
        "outputId": "199a8f52-5871-466c-a043-725a9e2dfbb4"
      },
      "execution_count": null,
      "outputs": [
        {
          "output_type": "execute_result",
          "data": {
            "text/plain": [
              "[1, 12, 2, 3, 4, 5, 6, 7, 8, 9, 10]"
            ]
          },
          "metadata": {},
          "execution_count": 6
        }
      ]
    },
    {
      "cell_type": "code",
      "source": [
        "'''5. Remove an element from a list by its value.'''\n",
        "lst = [i for i in range(1,11)]\n",
        "lst.remove(10)\n",
        "lst"
      ],
      "metadata": {
        "colab": {
          "base_uri": "https://localhost:8080/"
        },
        "id": "AHNpF8EJQjv5",
        "outputId": "11f77776-e77a-4cb2-b49d-20a06653e039"
      },
      "execution_count": null,
      "outputs": [
        {
          "output_type": "execute_result",
          "data": {
            "text/plain": [
              "[1, 2, 3, 4, 5, 6, 7, 8, 9]"
            ]
          },
          "metadata": {},
          "execution_count": 7
        }
      ]
    },
    {
      "cell_type": "code",
      "source": [
        "'''6. Remove an element from a list by its index.'''\n",
        "lst = [i for i in range(1,11)]\n",
        "lst.pop(1)\n",
        "lst"
      ],
      "metadata": {
        "colab": {
          "base_uri": "https://localhost:8080/"
        },
        "id": "UWDiIdakQjy6",
        "outputId": "612e3dc5-a10c-4785-c5e2-3375b441d704"
      },
      "execution_count": null,
      "outputs": [
        {
          "output_type": "execute_result",
          "data": {
            "text/plain": [
              "[1, 3, 4, 5, 6, 7, 8, 9, 10]"
            ]
          },
          "metadata": {},
          "execution_count": 8
        }
      ]
    },
    {
      "cell_type": "code",
      "source": [
        "'''7. Check if an element exists in a list.'''\n",
        "lst = [i for i in range(1,11)]\n",
        "10 in lst"
      ],
      "metadata": {
        "colab": {
          "base_uri": "https://localhost:8080/"
        },
        "id": "m6yAoObbQj10",
        "outputId": "1de0afe1-b7b8-435f-b3fa-87b4d46c6835"
      },
      "execution_count": null,
      "outputs": [
        {
          "output_type": "execute_result",
          "data": {
            "text/plain": [
              "True"
            ]
          },
          "metadata": {},
          "execution_count": 9
        }
      ]
    },
    {
      "cell_type": "code",
      "source": [
        "'''8. Find the index of the first occurrence of an element in a list.'''\n",
        "lst = [i for i in range(1,11)]\n",
        "lst.append(5)\n",
        "lst.index(5)"
      ],
      "metadata": {
        "colab": {
          "base_uri": "https://localhost:8080/"
        },
        "id": "3-52H2IdQj4l",
        "outputId": "82780f51-6a58-4773-e5a2-c42872a32584"
      },
      "execution_count": null,
      "outputs": [
        {
          "output_type": "execute_result",
          "data": {
            "text/plain": [
              "4"
            ]
          },
          "metadata": {},
          "execution_count": 11
        }
      ]
    },
    {
      "cell_type": "code",
      "source": [
        "'''9. Count the occurrences of an element in a list.'''\n",
        "lst = [i for i in range(1,11)]\n",
        "lst.append(5)\n",
        "lst.count(5)"
      ],
      "metadata": {
        "colab": {
          "base_uri": "https://localhost:8080/"
        },
        "id": "0Pqof0-fQj7f",
        "outputId": "5b35e407-4277-400e-9cae-433b7b24e00b"
      },
      "execution_count": null,
      "outputs": [
        {
          "output_type": "execute_result",
          "data": {
            "text/plain": [
              "2"
            ]
          },
          "metadata": {},
          "execution_count": 12
        }
      ]
    },
    {
      "cell_type": "code",
      "source": [
        "'''10. Reverse the order of elements in a list.'''\n",
        "lst = [i for i in range(1,11)]\n",
        "lst = lst[::-1]\n",
        "lst"
      ],
      "metadata": {
        "colab": {
          "base_uri": "https://localhost:8080/"
        },
        "id": "S15435D4Qj-g",
        "outputId": "c5490345-70d0-4380-8bf1-72a65cd996ab"
      },
      "execution_count": null,
      "outputs": [
        {
          "output_type": "execute_result",
          "data": {
            "text/plain": [
              "[10, 9, 8, 7, 6, 5, 4, 3, 2, 1]"
            ]
          },
          "metadata": {},
          "execution_count": 15
        }
      ]
    },
    {
      "cell_type": "code",
      "source": [
        "'''11. Sort a list in ascending order.'''\n",
        "lst = [i for i in range(1,11)]\n",
        "lst.append(5)\n",
        "lst.sort()\n",
        "lst"
      ],
      "metadata": {
        "colab": {
          "base_uri": "https://localhost:8080/"
        },
        "id": "bHad0oxiQkBa",
        "outputId": "ce652b0c-df43-491c-c025-fce58c0203bf"
      },
      "execution_count": null,
      "outputs": [
        {
          "output_type": "execute_result",
          "data": {
            "text/plain": [
              "[1, 2, 3, 4, 5, 5, 6, 7, 8, 9, 10]"
            ]
          },
          "metadata": {},
          "execution_count": 19
        }
      ]
    },
    {
      "cell_type": "code",
      "source": [
        "'''12. Sort a list in descending order.'''\n",
        "lst = [i for i in range(1,11)]\n",
        "lst.append(5)\n",
        "lst.sort(reverse=True)\n",
        "lst"
      ],
      "metadata": {
        "colab": {
          "base_uri": "https://localhost:8080/"
        },
        "id": "qau9GVP_QkEd",
        "outputId": "a1f763c8-9136-496c-f9c9-0f7945446a2a"
      },
      "execution_count": null,
      "outputs": [
        {
          "output_type": "execute_result",
          "data": {
            "text/plain": [
              "[10, 9, 8, 7, 6, 5, 5, 4, 3, 2, 1]"
            ]
          },
          "metadata": {},
          "execution_count": 20
        }
      ]
    },
    {
      "cell_type": "code",
      "source": [
        "'''13. Create a list of even numbers from 1 to 20.'''\n",
        "lst = [i for i in range(20) if i%2==0]\n",
        "lst"
      ],
      "metadata": {
        "colab": {
          "base_uri": "https://localhost:8080/"
        },
        "id": "LRpiyNa1TjcG",
        "outputId": "e7d20cde-b2aa-426a-cec9-c66f5496cce6"
      },
      "execution_count": null,
      "outputs": [
        {
          "output_type": "execute_result",
          "data": {
            "text/plain": [
              "[0, 2, 4, 6, 8, 10, 12, 14, 16, 18]"
            ]
          },
          "metadata": {},
          "execution_count": 22
        }
      ]
    },
    {
      "cell_type": "code",
      "source": [
        "'''14. Create a list of odd numbers from 1 to 20.'''\n",
        "lst = [i for i in range(20) if i%2!=0]\n",
        "lst"
      ],
      "metadata": {
        "colab": {
          "base_uri": "https://localhost:8080/"
        },
        "id": "4NBtxIJ_TjfW",
        "outputId": "a15b755d-1094-440c-c8bd-1fa85655016d"
      },
      "execution_count": null,
      "outputs": [
        {
          "output_type": "execute_result",
          "data": {
            "text/plain": [
              "[1, 3, 5, 7, 9, 11, 13, 15, 17, 19]"
            ]
          },
          "metadata": {},
          "execution_count": 23
        }
      ]
    },
    {
      "cell_type": "code",
      "source": [
        "'''15. Find the sum of all elements in a list.'''\n",
        "lst = [i for i in range(1,11)]\n",
        "sum(lst)"
      ],
      "metadata": {
        "colab": {
          "base_uri": "https://localhost:8080/"
        },
        "id": "0Q9hYWiLTjic",
        "outputId": "0174e6ab-6acd-44e9-a4ec-6753d997ae24"
      },
      "execution_count": null,
      "outputs": [
        {
          "output_type": "execute_result",
          "data": {
            "text/plain": [
              "55"
            ]
          },
          "metadata": {},
          "execution_count": 24
        }
      ]
    },
    {
      "cell_type": "code",
      "source": [
        "'''16. Find the maximum value in a list.'''\n",
        "lst = [i for i in range(1,11)]\n",
        "max(lst)"
      ],
      "metadata": {
        "colab": {
          "base_uri": "https://localhost:8080/"
        },
        "id": "03PfJuCTTjlW",
        "outputId": "2995738c-7973-4e62-daf6-1fc439f328c1"
      },
      "execution_count": null,
      "outputs": [
        {
          "output_type": "execute_result",
          "data": {
            "text/plain": [
              "10"
            ]
          },
          "metadata": {},
          "execution_count": 25
        }
      ]
    },
    {
      "cell_type": "code",
      "source": [
        "'''17. Find the minimum value in a list.'''\n",
        "lst = [i for i in range(1,11)]\n",
        "min(lst)"
      ],
      "metadata": {
        "colab": {
          "base_uri": "https://localhost:8080/"
        },
        "id": "e_-KNx_9Tjn_",
        "outputId": "58fc349c-0954-4a0f-d2aa-9493b28517d3"
      },
      "execution_count": null,
      "outputs": [
        {
          "output_type": "execute_result",
          "data": {
            "text/plain": [
              "1"
            ]
          },
          "metadata": {},
          "execution_count": 26
        }
      ]
    },
    {
      "cell_type": "code",
      "source": [
        "'''18. Create a list of squares of numbers from 1 to 10.'''\n",
        "lst=[i**2 for i in range(1,11)]\n",
        "lst"
      ],
      "metadata": {
        "colab": {
          "base_uri": "https://localhost:8080/"
        },
        "id": "qXrudTFWTjq5",
        "outputId": "dae1f21c-68d6-4833-bbc9-cdfef4c5c73b"
      },
      "execution_count": null,
      "outputs": [
        {
          "output_type": "execute_result",
          "data": {
            "text/plain": [
              "[1, 4, 9, 16, 25, 36, 49, 64, 81, 100]"
            ]
          },
          "metadata": {},
          "execution_count": 27
        }
      ]
    },
    {
      "cell_type": "code",
      "source": [
        "'''19. Create a list of random numbers.'''\n",
        "import random\n",
        "lst = [random.randint(1,10) for i in range(10)]\n",
        "lst"
      ],
      "metadata": {
        "colab": {
          "base_uri": "https://localhost:8080/"
        },
        "id": "Pb4yLl4-Tjwt",
        "outputId": "2fcbb421-598a-41f5-ce1e-f83682cea60f"
      },
      "execution_count": null,
      "outputs": [
        {
          "output_type": "execute_result",
          "data": {
            "text/plain": [
              "[8, 5, 9, 1, 7, 7, 9, 6, 5, 7]"
            ]
          },
          "metadata": {},
          "execution_count": 31
        }
      ]
    },
    {
      "cell_type": "code",
      "source": [
        "'''20. Remove duplicates from a list.'''\n",
        "lst = [i for i in range(1,11)]\n",
        "lst.append(5)\n",
        "lst= set(lst)\n",
        "lst"
      ],
      "metadata": {
        "colab": {
          "base_uri": "https://localhost:8080/"
        },
        "id": "rhSAnMlCTjzt",
        "outputId": "80b56b06-c3ca-45f0-8e43-7030d1d10857"
      },
      "execution_count": null,
      "outputs": [
        {
          "output_type": "execute_result",
          "data": {
            "text/plain": [
              "{1, 2, 3, 4, 5, 6, 7, 8, 9, 10}"
            ]
          },
          "metadata": {},
          "execution_count": 32
        }
      ]
    },
    {
      "cell_type": "code",
      "source": [
        "'''21. Find the common elements between two lists.'''\n",
        "lst1, lst2=[1,2,5,7,8], [3,4,5,8,9]\n",
        "cmn = [i for i in lst1 if i in lst2]\n",
        "cmn"
      ],
      "metadata": {
        "colab": {
          "base_uri": "https://localhost:8080/"
        },
        "id": "WnhNMOiTTj3Q",
        "outputId": "c79f29a8-a2a7-470b-ee09-99981e124364"
      },
      "execution_count": null,
      "outputs": [
        {
          "output_type": "execute_result",
          "data": {
            "text/plain": [
              "[5, 8]"
            ]
          },
          "metadata": {},
          "execution_count": 33
        }
      ]
    },
    {
      "cell_type": "code",
      "source": [
        "'''22. Find the difference between two lists.'''\n",
        "lst1, lst2=[1,2,5,7,8], [3,4,5,8,9]\n",
        "cmn = [i for i in lst1 if i in lst2]\n",
        "lst1.extend(lst2)\n",
        "diff = [i for i in lst1 if i not in cmn]\n",
        "diff"
      ],
      "metadata": {
        "colab": {
          "base_uri": "https://localhost:8080/"
        },
        "id": "nGc9l6dTiT1o",
        "outputId": "980e04b2-d900-419e-dd38-98c76b841723"
      },
      "execution_count": null,
      "outputs": [
        {
          "output_type": "execute_result",
          "data": {
            "text/plain": [
              "[1, 2, 7, 3, 4, 9]"
            ]
          },
          "metadata": {},
          "execution_count": 39
        }
      ]
    },
    {
      "cell_type": "code",
      "source": [
        "'''23. Merge two lists.'''\n",
        "lst1, lst2=[1,2,5,7,8], [3,4,5,8,9]\n",
        "lst1.extend(lst2)\n",
        "lst1"
      ],
      "metadata": {
        "colab": {
          "base_uri": "https://localhost:8080/"
        },
        "id": "Y7bGXNbTiT4g",
        "outputId": "135eb444-ae9a-493d-8171-7c6959b43ce9"
      },
      "execution_count": null,
      "outputs": [
        {
          "output_type": "execute_result",
          "data": {
            "text/plain": [
              "[1, 2, 5, 7, 8, 3, 4, 5, 8, 9]"
            ]
          },
          "metadata": {},
          "execution_count": 41
        }
      ]
    },
    {
      "cell_type": "code",
      "source": [
        "'''24. Multiply all elements in a list by 2.'''\n",
        "lst = [i for i in range(1,11)]\n",
        "lst = [i*2 for i in lst]\n",
        "lst"
      ],
      "metadata": {
        "colab": {
          "base_uri": "https://localhost:8080/"
        },
        "id": "vappOdEbiT7i",
        "outputId": "2bd74fb0-51b2-4652-d9be-5e0034f9e198"
      },
      "execution_count": null,
      "outputs": [
        {
          "output_type": "execute_result",
          "data": {
            "text/plain": [
              "[2, 4, 6, 8, 10, 12, 14, 16, 18, 20]"
            ]
          },
          "metadata": {},
          "execution_count": 42
        }
      ]
    },
    {
      "cell_type": "code",
      "source": [
        "'''25. Filter out all even numbers from a list.'''\n",
        "lst = [i for i in range(20)]\n",
        "lst = [i for i in lst if i%2==0]\n",
        "lst"
      ],
      "metadata": {
        "colab": {
          "base_uri": "https://localhost:8080/"
        },
        "id": "cseapeeciT-j",
        "outputId": "8cb39c81-60d8-429e-80d8-9f5eff79ec9d"
      },
      "execution_count": null,
      "outputs": [
        {
          "output_type": "execute_result",
          "data": {
            "text/plain": [
              "[0, 2, 4, 6, 8, 10, 12, 14, 16, 18]"
            ]
          },
          "metadata": {},
          "execution_count": 43
        }
      ]
    },
    {
      "cell_type": "code",
      "source": [
        "'''26. Convert a list of strings to a list of integers.'''\n",
        "lst= ['1','2','3']\n",
        "lst = [int(i) for i in lst]\n",
        "lst"
      ],
      "metadata": {
        "colab": {
          "base_uri": "https://localhost:8080/"
        },
        "id": "vT7OkH33iUBN",
        "outputId": "ecd4fb7b-34f4-4dd4-c290-06f1d082dabd"
      },
      "execution_count": null,
      "outputs": [
        {
          "output_type": "execute_result",
          "data": {
            "text/plain": [
              "[1, 2, 3]"
            ]
          },
          "metadata": {},
          "execution_count": 44
        }
      ]
    },
    {
      "cell_type": "code",
      "source": [
        "'''27. Convert a list of integers to a list of strings.'''\n",
        "lst= [str(i) for i in range(10)]\n",
        "lst\n"
      ],
      "metadata": {
        "colab": {
          "base_uri": "https://localhost:8080/"
        },
        "id": "VMwVh_taiUEH",
        "outputId": "49760748-a9ed-4705-d0e7-c8ab2a9d2d97"
      },
      "execution_count": null,
      "outputs": [
        {
          "output_type": "execute_result",
          "data": {
            "text/plain": [
              "['0', '1', '2', '3', '4', '5', '6', '7', '8', '9']"
            ]
          },
          "metadata": {},
          "execution_count": 45
        }
      ]
    },
    {
      "cell_type": "code",
      "source": [
        "'''28. Flatten a nested list.'''\n",
        "lst = [1,2,3,[7,8],[4,5]]\n",
        "new=[]\n",
        "for s in lst:\n",
        "  if isinstance(s, list):\n",
        "    new.extend(s)\n",
        "  else:\n",
        "    new.append(s)\n",
        "new"
      ],
      "metadata": {
        "colab": {
          "base_uri": "https://localhost:8080/"
        },
        "id": "KDTw6tcIiUHQ",
        "outputId": "c5c0d2ca-5deb-4818-8076-8783fd9f6e50"
      },
      "execution_count": null,
      "outputs": [
        {
          "output_type": "execute_result",
          "data": {
            "text/plain": [
              "[1, 2, 3, 7, 8, 4, 5]"
            ]
          },
          "metadata": {},
          "execution_count": 59
        }
      ]
    },
    {
      "cell_type": "code",
      "source": [
        "'''29. Create a list of the first 10 Fibonacci numbers.'''\n",
        "def fib(n):\n",
        "  lst=[]\n",
        "  if n<=1:\n",
        "    return 0\n",
        "  elif n==2:\n",
        "    return 1\n",
        "  else:\n",
        "    return fib(n-1)+fib(n-2)\n",
        "#0,1,1,2,3,5,8\n",
        "lst = [fib(i) for i in range(1,10)]\n",
        "lst"
      ],
      "metadata": {
        "colab": {
          "base_uri": "https://localhost:8080/"
        },
        "id": "q2s5rR1diUKL",
        "outputId": "c1cecced-e8c2-4577-8581-79082b87692b"
      },
      "execution_count": null,
      "outputs": [
        {
          "output_type": "execute_result",
          "data": {
            "text/plain": [
              "[0, 1, 1, 2, 3, 5, 8, 13, 21]"
            ]
          },
          "metadata": {},
          "execution_count": 80
        }
      ]
    },
    {
      "cell_type": "code",
      "source": [
        "'''30. Check if a list is sorted.'''\n",
        "lst = [1,2,3,4,5,7,7,17,8,9]\n",
        "for i in range(len(lst)-1):\n",
        "  if lst[i]<=lst[i+1]:\n",
        "    continue\n",
        "  else:\n",
        "    break\n",
        "if i==len(lst)-2:\n",
        "  print(\"list is sorted\")\n",
        "else:\n",
        "  print(\"list is not sorted\")"
      ],
      "metadata": {
        "colab": {
          "base_uri": "https://localhost:8080/"
        },
        "id": "u6nDJ1LviUNt",
        "outputId": "b1f5cc90-f906-48f1-ea30-c65d5632555c"
      },
      "execution_count": null,
      "outputs": [
        {
          "output_type": "stream",
          "name": "stdout",
          "text": [
            "list is not sorted\n"
          ]
        },
        {
          "output_type": "execute_result",
          "data": {
            "text/plain": [
              "7"
            ]
          },
          "metadata": {},
          "execution_count": 87
        }
      ]
    },
    {
      "cell_type": "code",
      "source": [
        "'''31. Rotate a list to the left by `n` positions.'''\n",
        "lst = [i for i in range(10)]\n",
        "def left(lst,n):\n",
        "  lst= lst[n:] + lst[:n]\n",
        "  return lst\n",
        "left(lst,3)"
      ],
      "metadata": {
        "colab": {
          "base_uri": "https://localhost:8080/"
        },
        "id": "zqLHYr_jyLts",
        "outputId": "377086d5-047c-4db9-c21c-50f924fd85d1"
      },
      "execution_count": null,
      "outputs": [
        {
          "output_type": "execute_result",
          "data": {
            "text/plain": [
              "[3, 4, 5, 6, 7, 8, 9, 0, 1, 2]"
            ]
          },
          "metadata": {},
          "execution_count": 88
        }
      ]
    },
    {
      "cell_type": "code",
      "source": [
        "'''32. Rotate a list to the right by `n` positions.'''\n",
        "lst = [i for i in range(10)]\n",
        "def left(lst,n):\n",
        "  lst= lst[-n:] + lst[:-n]\n",
        "  return lst\n",
        "left(lst,3)"
      ],
      "metadata": {
        "colab": {
          "base_uri": "https://localhost:8080/"
        },
        "id": "-f_ph0tByLw-",
        "outputId": "1ea7b414-df04-411e-b082-ae716eeecbb9"
      },
      "execution_count": null,
      "outputs": [
        {
          "output_type": "execute_result",
          "data": {
            "text/plain": [
              "[7, 8, 9, 0, 1, 2, 3, 4, 5, 6]"
            ]
          },
          "metadata": {},
          "execution_count": 89
        }
      ]
    },
    {
      "cell_type": "code",
      "source": [
        "'''33. Create a list of prime numbers up to 50.'''\n",
        "def prime(n):\n",
        "  l=[2]\n",
        "  for i in range(3,n):\n",
        "    p = [i%k for k in l]\n",
        "    if 0 not in p:\n",
        "      l.append(i)\n",
        "  return l\n",
        "prime(50)"
      ],
      "metadata": {
        "colab": {
          "base_uri": "https://localhost:8080/"
        },
        "id": "uf1hn7JVyLz-",
        "outputId": "db82ba3c-5928-411a-9088-c9f6223bb1f0"
      },
      "execution_count": null,
      "outputs": [
        {
          "output_type": "execute_result",
          "data": {
            "text/plain": [
              "[2, 3, 5, 7, 11, 13, 17, 19, 23, 29, 31, 37, 41, 43, 47]"
            ]
          },
          "metadata": {},
          "execution_count": 106
        }
      ]
    },
    {
      "cell_type": "code",
      "source": [
        "'''34. Split a list into chunks of size `n`.'''\n",
        "lst= [i for i in range(10)]\n",
        "def div_chunk(lst, k):\n",
        "  for i in range(0, len(lst), k):\n",
        "    yield lst[i:i+k]\n",
        "list(div_chunk(lst, 2))"
      ],
      "metadata": {
        "colab": {
          "base_uri": "https://localhost:8080/"
        },
        "id": "YpL8_oGVyL2_",
        "outputId": "3ee778fb-c453-48ba-f44b-70fa8dde713f"
      },
      "execution_count": null,
      "outputs": [
        {
          "output_type": "execute_result",
          "data": {
            "text/plain": [
              "[[0, 1], [2, 3], [4, 5], [6, 7], [8, 9]]"
            ]
          },
          "metadata": {},
          "execution_count": 108
        }
      ]
    },
    {
      "cell_type": "code",
      "source": [
        "'''35. Find the second largest number in a list.'''\n",
        "lst = [i for i in range(10)]\n",
        "lst.append(8)\n",
        "def lar(lst, n):\n",
        "  k=0\n",
        "  lst.sort(reverse=True)\n",
        "  print(lst)\n",
        "  for i in range(len(lst)-1):\n",
        "    if lst[i]==lst[i+1]:\n",
        "      continue\n",
        "    else:\n",
        "      k+=1\n",
        "    if k==n:\n",
        "      break\n",
        "  return lst[i]\n",
        "\n",
        "lar(lst, 3)\n"
      ],
      "metadata": {
        "colab": {
          "base_uri": "https://localhost:8080/"
        },
        "id": "WsVaLd02yL54",
        "outputId": "c1f5ab09-affc-4442-ffe6-6c84727cd031"
      },
      "execution_count": null,
      "outputs": [
        {
          "output_type": "stream",
          "name": "stdout",
          "text": [
            "[9, 8, 8, 7, 6, 5, 4, 3, 2, 1, 0]\n"
          ]
        },
        {
          "output_type": "execute_result",
          "data": {
            "text/plain": [
              "7"
            ]
          },
          "metadata": {},
          "execution_count": 119
        }
      ]
    },
    {
      "cell_type": "code",
      "source": [
        "'''36. Replace every element in a list with its square.'''\n",
        "lst = [i for i in range(10)]\n",
        "lst= [i*i for i in lst]\n",
        "lst"
      ],
      "metadata": {
        "colab": {
          "base_uri": "https://localhost:8080/"
        },
        "id": "Qe05Zm5YyL80",
        "outputId": "aab7b509-d60a-4257-fabb-50e9deb660c1"
      },
      "execution_count": null,
      "outputs": [
        {
          "output_type": "execute_result",
          "data": {
            "text/plain": [
              "[0, 1, 4, 9, 16, 25, 36, 49, 64, 81]"
            ]
          },
          "metadata": {},
          "execution_count": 120
        }
      ]
    },
    {
      "cell_type": "code",
      "source": [
        "'''37. Convert a list to a dictionary where list elements become keys and their indices become values.'''\n",
        "lst = [i for i in range(10)]\n",
        "dd={}\n",
        "for i in range(len(lst)):\n",
        "  dd[lst[i]]=i\n",
        "dd"
      ],
      "metadata": {
        "colab": {
          "base_uri": "https://localhost:8080/"
        },
        "id": "bZFjxGwYyL_2",
        "outputId": "551cddb1-a47f-40a0-c4f3-223731b9b719"
      },
      "execution_count": null,
      "outputs": [
        {
          "output_type": "execute_result",
          "data": {
            "text/plain": [
              "{0: 0, 1: 1, 2: 2, 3: 3, 4: 4, 5: 5, 6: 6, 7: 7, 8: 8, 9: 9}"
            ]
          },
          "metadata": {},
          "execution_count": 124
        }
      ]
    },
    {
      "cell_type": "code",
      "source": [
        "'''38. Shuffle the elements of a list randomly.'''\n",
        "import random\n",
        "lst = [i for i in range(10)]\n",
        "random.shuffle(lst)\n",
        "lst"
      ],
      "metadata": {
        "colab": {
          "base_uri": "https://localhost:8080/"
        },
        "id": "BVd4ai7SyMCt",
        "outputId": "bf2a4319-ed51-4bcc-a020-a4add6a3b7e7"
      },
      "execution_count": null,
      "outputs": [
        {
          "output_type": "execute_result",
          "data": {
            "text/plain": [
              "[2, 9, 6, 8, 7, 0, 5, 3, 4, 1]"
            ]
          },
          "metadata": {},
          "execution_count": 127
        }
      ]
    },
    {
      "cell_type": "code",
      "source": [
        "'''39. Create a list of the first 10 factorial numbers.'''\n",
        "def fact(n):\n",
        "  if n<=1:\n",
        "    return 1\n",
        "  else:\n",
        "    return n*fact(n-1)\n",
        "[fact(i) for i in range(10)]\n"
      ],
      "metadata": {
        "colab": {
          "base_uri": "https://localhost:8080/"
        },
        "id": "-QmLimLLyMGA",
        "outputId": "20ec74b8-bc58-422b-a102-b04ad3b04415"
      },
      "execution_count": null,
      "outputs": [
        {
          "output_type": "execute_result",
          "data": {
            "text/plain": [
              "[1, 1, 2, 6, 24, 120, 720, 5040, 40320, 362880]"
            ]
          },
          "metadata": {},
          "execution_count": 128
        }
      ]
    },
    {
      "cell_type": "code",
      "source": [
        "'''40. Check if two lists have at least one element in common.'''\n",
        "lst1, lst2 =[1,2,3,4,5], [6,7,8,8]\n",
        "def cmn(lst1, lst2):\n",
        "  cmn=False\n",
        "  for i in lst1:\n",
        "    if i in lst2:\n",
        "      cmn=True\n",
        "      break\n",
        "    else:\n",
        "      continue\n",
        "  return cmn\n",
        "cmn(lst1, lst2)"
      ],
      "metadata": {
        "colab": {
          "base_uri": "https://localhost:8080/"
        },
        "id": "N6Cu3srgyMJR",
        "outputId": "b9fca187-6cec-41c8-95ac-235123e64ec8"
      },
      "execution_count": null,
      "outputs": [
        {
          "output_type": "execute_result",
          "data": {
            "text/plain": [
              "False"
            ]
          },
          "metadata": {},
          "execution_count": 132
        }
      ]
    },
    {
      "cell_type": "code",
      "source": [
        "'''41. Remove all elements from a list.'''\n",
        "lst = [1,2,3]\n",
        "lst.clear()\n",
        "lst"
      ],
      "metadata": {
        "colab": {
          "base_uri": "https://localhost:8080/"
        },
        "id": "F6ycHL4YCH03",
        "outputId": "fcaebdf1-4cd6-4bdb-953f-88d5b58fb02d"
      },
      "execution_count": null,
      "outputs": [
        {
          "output_type": "execute_result",
          "data": {
            "text/plain": [
              "[]"
            ]
          },
          "metadata": {},
          "execution_count": 134
        }
      ]
    },
    {
      "cell_type": "code",
      "source": [
        "'''42. Replace negative numbers in a list with 0.'''\n",
        "lst = [-2,-1,4,5]\n",
        "list(map(lambda x: 0 if x<0 else x, lst))"
      ],
      "metadata": {
        "colab": {
          "base_uri": "https://localhost:8080/"
        },
        "id": "JoTAi4bQCH3_",
        "outputId": "fd6e610c-f010-48a5-dada-0a4b50b98ee3"
      },
      "execution_count": null,
      "outputs": [
        {
          "output_type": "execute_result",
          "data": {
            "text/plain": [
              "[0, 0, 4, 5]"
            ]
          },
          "metadata": {},
          "execution_count": 135
        }
      ]
    },
    {
      "cell_type": "code",
      "source": [
        "'''43. Convert a string into a list of words.'''\n",
        "str= 'this is a school'\n",
        "lst= str.split(' ')\n",
        "lst"
      ],
      "metadata": {
        "colab": {
          "base_uri": "https://localhost:8080/"
        },
        "id": "S3M_PqI8CH64",
        "outputId": "246e87a3-1bd7-45e9-ee46-2601b14fb789"
      },
      "execution_count": null,
      "outputs": [
        {
          "output_type": "execute_result",
          "data": {
            "text/plain": [
              "['this', 'is', 'a', 'school']"
            ]
          },
          "metadata": {},
          "execution_count": 136
        }
      ]
    },
    {
      "cell_type": "code",
      "source": [
        "'''44. Convert a list of words into a string.'''\n",
        "lst= ['this', 'is', 'a', 'school']\n",
        "str= ' '.join(lst)\n",
        "str"
      ],
      "metadata": {
        "colab": {
          "base_uri": "https://localhost:8080/",
          "height": 35
        },
        "id": "Zw3viPdPCH90",
        "outputId": "7840fe2d-971f-41a8-8187-8f06c5dec0ab"
      },
      "execution_count": null,
      "outputs": [
        {
          "output_type": "execute_result",
          "data": {
            "text/plain": [
              "'this is a school'"
            ],
            "application/vnd.google.colaboratory.intrinsic+json": {
              "type": "string"
            }
          },
          "metadata": {},
          "execution_count": 137
        }
      ]
    },
    {
      "cell_type": "code",
      "source": [
        "'''45. Create a list of the first `n` powers of 2.'''\n",
        "n= 4\n",
        "[2**i for i in range(n)]"
      ],
      "metadata": {
        "colab": {
          "base_uri": "https://localhost:8080/"
        },
        "id": "V2G2Ey2UCIAr",
        "outputId": "58ac84bb-e752-46c8-a130-344d7d27eb75"
      },
      "execution_count": null,
      "outputs": [
        {
          "output_type": "execute_result",
          "data": {
            "text/plain": [
              "[1, 2, 4, 8]"
            ]
          },
          "metadata": {},
          "execution_count": 138
        }
      ]
    },
    {
      "cell_type": "code",
      "source": [
        "'''46. Find the longest string in a list of strings.'''\n",
        "lst= ['this', 'is', 'a', 'school']\n",
        "max(lst, key=len)"
      ],
      "metadata": {
        "colab": {
          "base_uri": "https://localhost:8080/",
          "height": 35
        },
        "id": "FXEC1X3OCID0",
        "outputId": "6f72acde-bf0e-42ae-ac7a-b740037ec5cd"
      },
      "execution_count": null,
      "outputs": [
        {
          "output_type": "execute_result",
          "data": {
            "text/plain": [
              "'school'"
            ],
            "application/vnd.google.colaboratory.intrinsic+json": {
              "type": "string"
            }
          },
          "metadata": {},
          "execution_count": 143
        }
      ]
    },
    {
      "cell_type": "code",
      "source": [
        "'''47. Find the shortest string in a list of strings.'''\n",
        "lst= ['this', 'is', 'a', 'school']\n",
        "min(lst, key=len)"
      ],
      "metadata": {
        "colab": {
          "base_uri": "https://localhost:8080/",
          "height": 35
        },
        "id": "AEJ3XMADCIHG",
        "outputId": "aab945b2-b445-4475-c81a-8b2b2a830e73"
      },
      "execution_count": null,
      "outputs": [
        {
          "output_type": "execute_result",
          "data": {
            "text/plain": [
              "'a'"
            ],
            "application/vnd.google.colaboratory.intrinsic+json": {
              "type": "string"
            }
          },
          "metadata": {},
          "execution_count": 144
        }
      ]
    },
    {
      "cell_type": "code",
      "source": [
        "'''48. Create a list of the first `n` triangular numbers.'''\n"
      ],
      "metadata": {
        "id": "FHQnRyVNCIKg"
      },
      "execution_count": null,
      "outputs": []
    },
    {
      "cell_type": "code",
      "source": [
        "'''49. Check if a list contains another list as a subsequence.'''\n",
        "lst1= [1,2,3,4,5,6,7,8]\n",
        "lst2= [3,4]\n",
        "set(lst2).issubset(set(lst1))"
      ],
      "metadata": {
        "id": "6r1vEwNVCIOS",
        "colab": {
          "base_uri": "https://localhost:8080/"
        },
        "outputId": "5f56834f-b7ae-49ba-9b84-c3faa97683f9"
      },
      "execution_count": null,
      "outputs": [
        {
          "output_type": "execute_result",
          "data": {
            "text/plain": [
              "True"
            ]
          },
          "metadata": {},
          "execution_count": 2
        }
      ]
    },
    {
      "cell_type": "code",
      "source": [
        "'''50. Swap two elements in a list by their indices.'''"
      ],
      "metadata": {
        "colab": {
          "base_uri": "https://localhost:8080/"
        },
        "id": "JjE8MMjqMfWe",
        "outputId": "4cc679b5-7cdd-49ad-8956-e08bf68ec772"
      },
      "execution_count": null,
      "outputs": [
        {
          "output_type": "execute_result",
          "data": {
            "text/plain": [
              "[1, 2, 3]"
            ]
          },
          "metadata": {},
          "execution_count": 4
        }
      ]
    },
    {
      "cell_type": "code",
      "source": [],
      "metadata": {
        "id": "FiB04PRTMfab"
      },
      "execution_count": null,
      "outputs": []
    },
    {
      "cell_type": "code",
      "source": [
        "### Tuple Based Practice Problem :"
      ],
      "metadata": {
        "id": "c_eLHzNdMfeO"
      },
      "execution_count": null,
      "outputs": []
    },
    {
      "cell_type": "code",
      "source": [
        "'''1. Create a tuple with integers from 1 to 5.'''\n",
        "tpl = (i for i in range(1,6))\n",
        "tuple(tpl)"
      ],
      "metadata": {
        "colab": {
          "base_uri": "https://localhost:8080/"
        },
        "id": "KoD0CavSMfh0",
        "outputId": "d6b7f73d-7d99-485e-8e50-f797ab2a4d01"
      },
      "execution_count": null,
      "outputs": [
        {
          "output_type": "execute_result",
          "data": {
            "text/plain": [
              "(1, 2, 3, 4, 5)"
            ]
          },
          "metadata": {},
          "execution_count": 6
        }
      ]
    },
    {
      "cell_type": "code",
      "source": [
        "'''2. Access the third element of a tuple.'''\n",
        "tpl = (1,2,3,4,5)\n",
        "tpl[2]"
      ],
      "metadata": {
        "colab": {
          "base_uri": "https://localhost:8080/"
        },
        "id": "IzAmtYSvMfk2",
        "outputId": "2bc5f61d-a99b-4013-c802-c77b3b595145"
      },
      "execution_count": null,
      "outputs": [
        {
          "output_type": "execute_result",
          "data": {
            "text/plain": [
              "3"
            ]
          },
          "metadata": {},
          "execution_count": 8
        }
      ]
    },
    {
      "cell_type": "code",
      "source": [
        "'''3. Find the length of a tuple without using the `len()` function.'''\n",
        "tpl = (1,2,3,4,5)\n",
        "def leng(tpl):\n",
        "  len=0\n",
        "  for i in tpl:\n",
        "    len+=1\n",
        "  return len\n",
        "leng((1,2,3,4))"
      ],
      "metadata": {
        "colab": {
          "base_uri": "https://localhost:8080/"
        },
        "id": "ZOnDLw1JMfo7",
        "outputId": "377c4b2d-ca45-472c-94d9-f6253538c1f4"
      },
      "execution_count": null,
      "outputs": [
        {
          "output_type": "execute_result",
          "data": {
            "text/plain": [
              "4"
            ]
          },
          "metadata": {},
          "execution_count": 2
        }
      ]
    },
    {
      "cell_type": "code",
      "source": [
        "'''4. Count the occurrences of an element in a tuple.'''\n",
        "tpl = (1,2,2,4,5)\n",
        "def occ(ele, tpl):\n",
        "  occ=0\n",
        "  for i in tpl:\n",
        "    if ele==i:\n",
        "      occ+=1\n",
        "  return occ\n",
        "occ(5, tpl)"
      ],
      "metadata": {
        "colab": {
          "base_uri": "https://localhost:8080/"
        },
        "id": "MZPd-epYgYCU",
        "outputId": "268f683e-83ab-44cb-c8f1-aa5433a51f99"
      },
      "execution_count": null,
      "outputs": [
        {
          "output_type": "execute_result",
          "data": {
            "text/plain": [
              "1"
            ]
          },
          "metadata": {},
          "execution_count": 6
        }
      ]
    },
    {
      "cell_type": "code",
      "source": [
        "'''5. Find the index of the first occurrence of an element in a tuple.'''\n",
        "tpl= (1,2,4,2,5,6)\n",
        "tpl.index(2)\n",
        "# tpl.count(2)"
      ],
      "metadata": {
        "colab": {
          "base_uri": "https://localhost:8080/"
        },
        "id": "U6q6pfbogYFU",
        "outputId": "1fd475a7-cb2a-44e7-fdec-dd27fc52baa1"
      },
      "execution_count": null,
      "outputs": [
        {
          "output_type": "execute_result",
          "data": {
            "text/plain": [
              "2"
            ]
          },
          "metadata": {},
          "execution_count": 10
        }
      ]
    },
    {
      "cell_type": "code",
      "source": [
        "'''6. Check if an element exists in a tuple.'''\n",
        "tpl=(1,2,3,5,6,7)\n",
        "tpl.count(4)"
      ],
      "metadata": {
        "colab": {
          "base_uri": "https://localhost:8080/"
        },
        "id": "aEMLWDIsgYIK",
        "outputId": "14c46184-74db-4ad5-96d7-c0cd693eae78"
      },
      "execution_count": null,
      "outputs": [
        {
          "output_type": "execute_result",
          "data": {
            "text/plain": [
              "0"
            ]
          },
          "metadata": {},
          "execution_count": 12
        }
      ]
    },
    {
      "cell_type": "code",
      "source": [
        "'''7. Convert a tuple to a list.'''\n",
        "tpl=(1,2,3,5,6,7)\n",
        "lst = list(tpl)\n",
        "print(lst)\n",
        "type(lst)"
      ],
      "metadata": {
        "colab": {
          "base_uri": "https://localhost:8080/"
        },
        "id": "apcuvc1QgYKv",
        "outputId": "24b0bd4c-7a74-4d4e-cb43-b08c4bf75527"
      },
      "execution_count": null,
      "outputs": [
        {
          "output_type": "stream",
          "name": "stdout",
          "text": [
            "[1, 2, 3, 5, 6, 7]\n"
          ]
        },
        {
          "output_type": "execute_result",
          "data": {
            "text/plain": [
              "list"
            ]
          },
          "metadata": {},
          "execution_count": 13
        }
      ]
    },
    {
      "cell_type": "code",
      "source": [
        "'''8. Convert a list to a tuple.'''\n",
        "lst=[1,2,3,4,5,5]\n",
        "tpl=tuple(lst)\n",
        "print(tpl)"
      ],
      "metadata": {
        "colab": {
          "base_uri": "https://localhost:8080/"
        },
        "id": "CRN4tEfsgYNb",
        "outputId": "96097796-79c7-4d41-86e7-3a392bb57bfb"
      },
      "execution_count": null,
      "outputs": [
        {
          "output_type": "stream",
          "name": "stdout",
          "text": [
            "(1, 2, 3, 4, 5, 5)\n"
          ]
        }
      ]
    },
    {
      "cell_type": "code",
      "source": [
        "'''9. Unpack the elements of a tuple into variables.'''\n",
        "a,b,c = (1,2,3)\n",
        "print(a,b,c)"
      ],
      "metadata": {
        "colab": {
          "base_uri": "https://localhost:8080/"
        },
        "id": "zTFtQs_fgYP5",
        "outputId": "f78e1d82-8b54-483c-8bc9-03cd5d3af539"
      },
      "execution_count": null,
      "outputs": [
        {
          "output_type": "stream",
          "name": "stdout",
          "text": [
            "1 2 3\n"
          ]
        }
      ]
    },
    {
      "cell_type": "code",
      "source": [
        "'''10. Create a tuple of even numbers from 1 to 10.'''\n",
        "tpl = (i for i in range(1,11) if i%2==0)\n",
        "tuple(tpl)"
      ],
      "metadata": {
        "colab": {
          "base_uri": "https://localhost:8080/"
        },
        "id": "U7o2VyD1gYSg",
        "outputId": "c7230bad-3c8a-4074-8f66-db81825ec514"
      },
      "execution_count": null,
      "outputs": [
        {
          "output_type": "execute_result",
          "data": {
            "text/plain": [
              "(2, 4, 6, 8, 10)"
            ]
          },
          "metadata": {},
          "execution_count": 17
        }
      ]
    },
    {
      "cell_type": "code",
      "source": [
        "'''11. Create a tuple of odd numbers from 1 to 10.'''\n",
        "tpl = (i for i in range(1,11) if i%2!=0)\n",
        "tuple(tpl)"
      ],
      "metadata": {
        "colab": {
          "base_uri": "https://localhost:8080/"
        },
        "id": "CH41BF_fgYV_",
        "outputId": "352e6828-be5d-4a4b-96aa-1e0d3f00a2cd"
      },
      "execution_count": null,
      "outputs": [
        {
          "output_type": "execute_result",
          "data": {
            "text/plain": [
              "(1, 3, 5, 7, 9)"
            ]
          },
          "metadata": {},
          "execution_count": 18
        }
      ]
    },
    {
      "cell_type": "code",
      "source": [
        "'''12. Concatenate two tuples.'''\n",
        "tpl1, tpl2 = (1,2,3), (2,3,4)\n",
        "tpl1+tpl2"
      ],
      "metadata": {
        "colab": {
          "base_uri": "https://localhost:8080/"
        },
        "id": "q3Pwg_jEgYYx",
        "outputId": "2fcf4ecf-17a4-4203-e1f6-4a4a79e538b3"
      },
      "execution_count": null,
      "outputs": [
        {
          "output_type": "execute_result",
          "data": {
            "text/plain": [
              "(1, 2, 3, 2, 3, 4)"
            ]
          },
          "metadata": {},
          "execution_count": 19
        }
      ]
    },
    {
      "cell_type": "code",
      "source": [
        "'''13. Repeat a tuple three times.'''\n",
        "tpl=(1,2,3,4,4)\n",
        "tpl*3"
      ],
      "metadata": {
        "colab": {
          "base_uri": "https://localhost:8080/"
        },
        "id": "iO2IJAdfgYch",
        "outputId": "88d51758-c254-4022-b964-8b7d07e91c08"
      },
      "execution_count": null,
      "outputs": [
        {
          "output_type": "execute_result",
          "data": {
            "text/plain": [
              "(1, 2, 3, 4, 4, 1, 2, 3, 4, 4, 1, 2, 3, 4, 4)"
            ]
          },
          "metadata": {},
          "execution_count": 20
        }
      ]
    },
    {
      "cell_type": "code",
      "source": [
        "'''14. Check if a tuple is empty.'''\n",
        "tpl=()\n",
        "len(tpl)"
      ],
      "metadata": {
        "colab": {
          "base_uri": "https://localhost:8080/"
        },
        "id": "ma5k2rIpkfK9",
        "outputId": "66278ff2-153d-4e94-ec44-a513dba1f190"
      },
      "execution_count": null,
      "outputs": [
        {
          "output_type": "execute_result",
          "data": {
            "text/plain": [
              "0"
            ]
          },
          "metadata": {},
          "execution_count": 21
        }
      ]
    },
    {
      "cell_type": "code",
      "source": [
        "'''15. Create a nested tuple.'''\n",
        "tpl=(1,2,3,4)\n",
        "ttpl=(1,2, tpl)\n",
        "ttpl"
      ],
      "metadata": {
        "colab": {
          "base_uri": "https://localhost:8080/"
        },
        "id": "FwQD8XzSkfOS",
        "outputId": "da8821a5-2822-43e4-84d6-5f85968303c8"
      },
      "execution_count": null,
      "outputs": [
        {
          "output_type": "execute_result",
          "data": {
            "text/plain": [
              "(1, 2, (1, 2, 3, 4))"
            ]
          },
          "metadata": {},
          "execution_count": 23
        }
      ]
    },
    {
      "cell_type": "code",
      "source": [
        "'''16. Access the first element of a nested tuple.'''\n",
        "tpl=(1,2,3,4)\n",
        "ttpl=(1,2, tpl)\n",
        "ttpl[2][0]"
      ],
      "metadata": {
        "colab": {
          "base_uri": "https://localhost:8080/"
        },
        "id": "guKHl401kfRP",
        "outputId": "7eed222e-f97e-4f73-a1b3-fbce19c38364"
      },
      "execution_count": null,
      "outputs": [
        {
          "output_type": "execute_result",
          "data": {
            "text/plain": [
              "1"
            ]
          },
          "metadata": {},
          "execution_count": 24
        }
      ]
    },
    {
      "cell_type": "code",
      "source": [
        "'''17. Create a tuple with a single element.'''\n",
        "tpl= (1,)\n",
        "tpl"
      ],
      "metadata": {
        "colab": {
          "base_uri": "https://localhost:8080/"
        },
        "id": "EG7DwnVMkfUL",
        "outputId": "72931763-7087-44cd-a9a3-a9bdaddb503e"
      },
      "execution_count": null,
      "outputs": [
        {
          "output_type": "execute_result",
          "data": {
            "text/plain": [
              "(1,)"
            ]
          },
          "metadata": {},
          "execution_count": 29
        }
      ]
    },
    {
      "cell_type": "code",
      "source": [
        "'''18. Compare two tuples.'''\n",
        "tpl1, tpl2= (1,2,3),(2,3,4)\n",
        "tpl1==tpl2"
      ],
      "metadata": {
        "colab": {
          "base_uri": "https://localhost:8080/"
        },
        "id": "SlD7CxXHkfXA",
        "outputId": "95903bad-6977-4c26-c928-0e1f6c31cd1e"
      },
      "execution_count": null,
      "outputs": [
        {
          "output_type": "execute_result",
          "data": {
            "text/plain": [
              "False"
            ]
          },
          "metadata": {},
          "execution_count": 30
        }
      ]
    },
    {
      "cell_type": "code",
      "source": [
        "'''19. Delete a tuple.'''\n",
        "tpl=(1,3)\n",
        "del tpl\n",
        "#tpl"
      ],
      "metadata": {
        "id": "Nv0-hdYMkfZ2"
      },
      "execution_count": null,
      "outputs": []
    },
    {
      "cell_type": "code",
      "source": [
        "'''20. Slice a tuple.'''\n",
        "tpl=(1,2,3,45)\n",
        "tpl[2:]"
      ],
      "metadata": {
        "colab": {
          "base_uri": "https://localhost:8080/"
        },
        "id": "7DnRCMAskfct",
        "outputId": "e7e3f8cc-be6d-41d1-835d-10e88aebd9e2"
      },
      "execution_count": null,
      "outputs": [
        {
          "output_type": "execute_result",
          "data": {
            "text/plain": [
              "(3, 45)"
            ]
          },
          "metadata": {},
          "execution_count": 36
        }
      ]
    },
    {
      "cell_type": "code",
      "source": [
        "'''21. Find the maximum value in a tuple.'''\n",
        "tpl=(1,2,3,4,5,6,5)\n",
        "max(tpl)"
      ],
      "metadata": {
        "colab": {
          "base_uri": "https://localhost:8080/"
        },
        "id": "n5aU-TOQkffQ",
        "outputId": "ea722d36-ec42-4e7a-c129-794b28c802d0"
      },
      "execution_count": null,
      "outputs": [
        {
          "output_type": "execute_result",
          "data": {
            "text/plain": [
              "6"
            ]
          },
          "metadata": {},
          "execution_count": 38
        }
      ]
    },
    {
      "cell_type": "code",
      "source": [
        "'''22. Find the minimum value in a tuple.'''\n",
        "tpl=(1,2,3,4,5,6,5)\n",
        "min(tpl)"
      ],
      "metadata": {
        "colab": {
          "base_uri": "https://localhost:8080/"
        },
        "id": "nMb_T5ZCkfh9",
        "outputId": "31029cb1-b109-409b-d936-a51303d0de61"
      },
      "execution_count": null,
      "outputs": [
        {
          "output_type": "execute_result",
          "data": {
            "text/plain": [
              "1"
            ]
          },
          "metadata": {},
          "execution_count": 39
        }
      ]
    },
    {
      "cell_type": "code",
      "source": [
        "'''23. Convert a string to a tuple of characters.'''\n",
        "str='ashok'\n",
        "tpl = (i for i in str)\n",
        "tuple(tpl)"
      ],
      "metadata": {
        "colab": {
          "base_uri": "https://localhost:8080/"
        },
        "id": "x3UU5Fplkfkr",
        "outputId": "3d6ba66f-8860-45d7-bf80-bfb4c398d3da"
      },
      "execution_count": null,
      "outputs": [
        {
          "output_type": "execute_result",
          "data": {
            "text/plain": [
              "('a', 's', 'h', 'o', 'k')"
            ]
          },
          "metadata": {},
          "execution_count": 42
        }
      ]
    },
    {
      "cell_type": "code",
      "source": [
        "'''24. Convert a tuple of characters to a string.'''\n",
        "tpl=('a', 's', 'h', 'o', 'k')\n",
        "''.join(tpl)"
      ],
      "metadata": {
        "colab": {
          "base_uri": "https://localhost:8080/",
          "height": 35
        },
        "id": "pm28GQUPkfnR",
        "outputId": "2027dbb0-c411-4ddf-a292-b1f2d4e0ce57"
      },
      "execution_count": null,
      "outputs": [
        {
          "output_type": "execute_result",
          "data": {
            "text/plain": [
              "'ashok'"
            ],
            "application/vnd.google.colaboratory.intrinsic+json": {
              "type": "string"
            }
          },
          "metadata": {},
          "execution_count": 43
        }
      ]
    },
    {
      "cell_type": "code",
      "source": [
        "'''25. Create a tuple from multiple data types.'''\n",
        "tpl=(1,2,'aa','bb',4)\n",
        "tpl"
      ],
      "metadata": {
        "colab": {
          "base_uri": "https://localhost:8080/"
        },
        "id": "4uO6ouZUkfqQ",
        "outputId": "22fae85d-3d96-4163-f4bf-2314133432c4"
      },
      "execution_count": null,
      "outputs": [
        {
          "output_type": "execute_result",
          "data": {
            "text/plain": [
              "(1, 2, 'aa', 'bb', 4)"
            ]
          },
          "metadata": {},
          "execution_count": 44
        }
      ]
    },
    {
      "cell_type": "code",
      "source": [
        "'''26. Check if two tuples are identical.'''\n",
        "tpl1, tpl2 = (1,2,3), (1,2,3)\n",
        "tpl==tpl2"
      ],
      "metadata": {
        "colab": {
          "base_uri": "https://localhost:8080/"
        },
        "id": "sIYtm1aCkftc",
        "outputId": "bf654801-1e0e-4904-849f-e18b31a0f760"
      },
      "execution_count": null,
      "outputs": [
        {
          "output_type": "execute_result",
          "data": {
            "text/plain": [
              "False"
            ]
          },
          "metadata": {},
          "execution_count": 45
        }
      ]
    },
    {
      "cell_type": "code",
      "source": [
        "'''27. Sort the elements of a tuple.'''\n",
        "tpl = (1,3,4,5,2)\n",
        "# use bubble sort\n",
        "lst= list(tpl)\n",
        "n=len(lst)\n",
        "for i in range(n):\n",
        "  for j in range(0,n-1-i):\n",
        "    if lst[j]>lst[j+1]:\n",
        "      lst[j], lst[j+1] = lst[j+1], lst[j]\n",
        "\n",
        "lst\n"
      ],
      "metadata": {
        "colab": {
          "base_uri": "https://localhost:8080/"
        },
        "id": "AByAmAJOkfwB",
        "outputId": "55d9318a-9896-472c-9ede-dc9b20d4f22f"
      },
      "execution_count": null,
      "outputs": [
        {
          "output_type": "execute_result",
          "data": {
            "text/plain": [
              "[1, 2, 3, 4, 5]"
            ]
          },
          "metadata": {},
          "execution_count": 3
        }
      ]
    },
    {
      "cell_type": "code",
      "source": [
        "'''28. Convert a tuple of integers to a tuple of strings.'''\n",
        "tpl= (1,2,3,4,5,6,4)\n",
        "tpl = (str(s) for s in tpl)\n",
        "tuple(tpl)"
      ],
      "metadata": {
        "colab": {
          "base_uri": "https://localhost:8080/"
        },
        "id": "7EfH4KAmjEo7",
        "outputId": "8a4191ec-98fd-4f59-c4ae-14bcbb5eb948"
      },
      "execution_count": null,
      "outputs": [
        {
          "output_type": "execute_result",
          "data": {
            "text/plain": [
              "('1', '2', '3', '4', '5', '6', '4')"
            ]
          },
          "metadata": {},
          "execution_count": 7
        }
      ]
    },
    {
      "cell_type": "code",
      "source": [
        "'''29. Convert a tuple of strings to a tuple of integers.'''\n",
        "tpl= ('1', '2', '3', '4', '5', '6', '4')\n",
        "tpl = (int(s) for s in tpl)\n",
        "tuple(tpl)\n",
        "\n"
      ],
      "metadata": {
        "colab": {
          "base_uri": "https://localhost:8080/"
        },
        "id": "vz6EWTRfjEsj",
        "outputId": "40f9f578-34f6-45ea-8f60-22b1d4c47faf"
      },
      "execution_count": null,
      "outputs": [
        {
          "output_type": "execute_result",
          "data": {
            "text/plain": [
              "(1, 2, 3, 4, 5, 6, 4)"
            ]
          },
          "metadata": {},
          "execution_count": 9
        }
      ]
    },
    {
      "cell_type": "code",
      "source": [
        "'''30. Merge two tuples.'''\n",
        "tpl1, tpl2=(1,2,3), (2,3,4)\n",
        "tpl1+tpl2\n"
      ],
      "metadata": {
        "colab": {
          "base_uri": "https://localhost:8080/"
        },
        "id": "gYHq8eQjjEvd",
        "outputId": "cc2f8af2-bbc8-446a-c138-9e0fa9a710b1"
      },
      "execution_count": null,
      "outputs": [
        {
          "output_type": "execute_result",
          "data": {
            "text/plain": [
              "(1, 2, 3, 2, 3, 4)"
            ]
          },
          "metadata": {},
          "execution_count": 10
        }
      ]
    },
    {
      "cell_type": "code",
      "source": [
        "'''31. Flatten a nested tuple.'''\n",
        "tpl = (1,2,3,(2,3),4)\n",
        "def flat(tpl):\n",
        "  lst=[]\n",
        "  for i in tpl:\n",
        "    if isinstance(i,tuple):\n",
        "      for j in i:\n",
        "        lst.append(j)\n",
        "    else:\n",
        "      lst.append(i)\n",
        "  return tuple(lst)\n",
        "flat(tpl)\n"
      ],
      "metadata": {
        "colab": {
          "base_uri": "https://localhost:8080/"
        },
        "id": "N8rJSuWejEyc",
        "outputId": "e5546a2c-fd86-4aac-a962-2d03e93a7194"
      },
      "execution_count": null,
      "outputs": [
        {
          "output_type": "execute_result",
          "data": {
            "text/plain": [
              "(1, 2, 3, 2, 3, 4)"
            ]
          },
          "metadata": {},
          "execution_count": 15
        }
      ]
    },
    {
      "cell_type": "code",
      "source": [
        "'''32. Create a tuple of the first 5 prime numbers.'''\n",
        "def is_prime(num):\n",
        "  if num<=2:\n",
        "    return False\n",
        "  for i in range(2,n):\n",
        "    if num%i==0:\n",
        "      return False\n",
        "    i+=1\n",
        "  return True\n",
        "\n",
        "def prime(n):\n",
        "  prime=[]\n",
        "  num=2\n",
        "  while len(prime)<n:\n",
        "    if is_prime(num):\n",
        "      prime.append(num)\n",
        "    num+=1\n",
        "  return prime\n",
        "\n",
        "prime(10)\n"
      ],
      "metadata": {
        "colab": {
          "base_uri": "https://localhost:8080/"
        },
        "id": "0IhQwLpGjE1S",
        "outputId": "4cbadd82-01fa-45a8-c24c-975e2620e2a9"
      },
      "execution_count": null,
      "outputs": [
        {
          "output_type": "execute_result",
          "data": {
            "text/plain": [
              "[5, 7, 11, 13, 17, 19, 23, 25, 29, 31]"
            ]
          },
          "metadata": {},
          "execution_count": 19
        }
      ]
    },
    {
      "cell_type": "code",
      "source": [
        "'''33. Check if a tuple is a palindrome.'''\n",
        "tpl = (1,2,3,4,3,2,1,2)\n",
        "def palindrome(tpl):\n",
        "  for i in range(int(len(tpl)/2)):\n",
        "    if tpl[i]!=tpl[-i-1]:\n",
        "      return False\n",
        "  return True\n",
        "\n",
        "palindrome(tpl)"
      ],
      "metadata": {
        "colab": {
          "base_uri": "https://localhost:8080/"
        },
        "id": "dqYRNvYwjE36",
        "outputId": "bd63d4bd-a65f-4318-902b-216d696deaf0"
      },
      "execution_count": null,
      "outputs": [
        {
          "output_type": "execute_result",
          "data": {
            "text/plain": [
              "False"
            ]
          },
          "metadata": {},
          "execution_count": 28
        }
      ]
    },
    {
      "cell_type": "code",
      "source": [
        "'''34. Create a tuple of squares of numbers from 1 to 5.'''\n",
        "tpl = (x*x for x in range(1,6))\n",
        "tuple(tpl)"
      ],
      "metadata": {
        "colab": {
          "base_uri": "https://localhost:8080/"
        },
        "id": "e81o1pCgjE69",
        "outputId": "392bf62b-0d72-4ccb-b1b7-8ebf1c9a24b5"
      },
      "execution_count": null,
      "outputs": [
        {
          "output_type": "execute_result",
          "data": {
            "text/plain": [
              "(1, 4, 9, 16, 25)"
            ]
          },
          "metadata": {},
          "execution_count": 30
        }
      ]
    },
    {
      "cell_type": "code",
      "source": [
        "'''35. Filter out all even numbers from a tuple.'''\n",
        "tpl = (1,2,3,4,5,6)\n",
        "tpl = (x for x in tpl if x%2==1)\n",
        "tuple(tpl)"
      ],
      "metadata": {
        "colab": {
          "base_uri": "https://localhost:8080/"
        },
        "id": "iYRImrpUjE94",
        "outputId": "205041f2-061b-48f7-dec6-cfddf8e6ed48"
      },
      "execution_count": null,
      "outputs": [
        {
          "output_type": "execute_result",
          "data": {
            "text/plain": [
              "(1, 3, 5)"
            ]
          },
          "metadata": {},
          "execution_count": 32
        }
      ]
    },
    {
      "cell_type": "code",
      "source": [
        "'''36. Multiply all elements in a tuple by 2.'''\n",
        "tpl = (1,2,3,4,5)\n",
        "tpl = (x*2 for x in tpl)\n",
        "tuple(tpl)"
      ],
      "metadata": {
        "colab": {
          "base_uri": "https://localhost:8080/"
        },
        "id": "5Ua3mBzljFA1",
        "outputId": "4760d652-ce7a-4cad-805e-bb58a2b31a97"
      },
      "execution_count": null,
      "outputs": [
        {
          "output_type": "execute_result",
          "data": {
            "text/plain": [
              "(2, 4, 6, 8, 10)"
            ]
          },
          "metadata": {},
          "execution_count": 34
        }
      ]
    },
    {
      "cell_type": "code",
      "source": [
        "'''37. Create a tuple of random numbers.'''\n",
        "import random\n",
        "def rand(n):\n",
        "  rand=[]\n",
        "  for i in range(n):\n",
        "    rand.append(random.randint(5,100))\n",
        "  return rand\n",
        "\n",
        "rand(5)"
      ],
      "metadata": {
        "colab": {
          "base_uri": "https://localhost:8080/"
        },
        "id": "_c4_t_cgjFD4",
        "outputId": "59431a39-bf22-42af-e0e1-4fb0e345402d"
      },
      "execution_count": null,
      "outputs": [
        {
          "output_type": "execute_result",
          "data": {
            "text/plain": [
              "[63, 52, 56, 36, 99]"
            ]
          },
          "metadata": {},
          "execution_count": 40
        }
      ]
    },
    {
      "cell_type": "code",
      "source": [
        "'''38. Check if a tuple is sorted.'''\n",
        "tpl= (1,2,3,6,7)\n",
        "tpl==sorted(tpl)"
      ],
      "metadata": {
        "colab": {
          "base_uri": "https://localhost:8080/"
        },
        "id": "y_GBCVlejFIA",
        "outputId": "b2b8758e-0a72-4c45-95c9-6bbc21266227"
      },
      "execution_count": null,
      "outputs": [
        {
          "output_type": "execute_result",
          "data": {
            "text/plain": [
              "False"
            ]
          },
          "metadata": {},
          "execution_count": 42
        }
      ]
    },
    {
      "cell_type": "code",
      "source": [
        "'''39. Rotate a tuple to the left by `n` positions.'''\n",
        "tpl = (1,2,3,4,5,6)\n",
        "def left(tpl,n):\n",
        "  return tpl[-n:]+tpl[:-n]\n",
        "left(tpl,1)"
      ],
      "metadata": {
        "colab": {
          "base_uri": "https://localhost:8080/"
        },
        "id": "2yF4c7_VH5nN",
        "outputId": "990651b8-5b2d-4fa1-900f-c819d2136d45"
      },
      "execution_count": null,
      "outputs": [
        {
          "output_type": "execute_result",
          "data": {
            "text/plain": [
              "(6, 1, 2, 3, 4, 5)"
            ]
          },
          "metadata": {},
          "execution_count": 49
        }
      ]
    },
    {
      "cell_type": "code",
      "source": [
        "'''40. Rotate a tuple to the right by `n` positions.'''\n",
        "tpl = (1,2,3,4,5,6)\n",
        "def right(tpl,n):\n",
        "  return tpl[:-n]+tpl[-n:]\n",
        "right(tpl,2)"
      ],
      "metadata": {
        "colab": {
          "base_uri": "https://localhost:8080/"
        },
        "id": "drgBHfOaH5qr",
        "outputId": "bab94cce-ad0d-422f-a1a3-78210ccbca11"
      },
      "execution_count": null,
      "outputs": [
        {
          "output_type": "execute_result",
          "data": {
            "text/plain": [
              "(1, 2, 3, 4, 5, 6)"
            ]
          },
          "metadata": {},
          "execution_count": 53
        }
      ]
    },
    {
      "cell_type": "code",
      "source": [
        "'''41. Create a tuple of the first 5 Fibonacci numbers.'''\n",
        "def fib(n):\n",
        "  if n<=2:\n",
        "    return 1\n",
        "  else:\n",
        "    return fib(n-1)+fib(n-2)\n",
        "\n",
        "for i in range(5):\n",
        "  print(fib(i))"
      ],
      "metadata": {
        "colab": {
          "base_uri": "https://localhost:8080/"
        },
        "id": "YrSL0B3hH5uP",
        "outputId": "42de33c0-ed04-4ac7-a864-85bb3ce3691e"
      },
      "execution_count": null,
      "outputs": [
        {
          "output_type": "stream",
          "name": "stdout",
          "text": [
            "1\n",
            "1\n",
            "2\n",
            "3\n",
            "5\n"
          ]
        }
      ]
    },
    {
      "cell_type": "code",
      "source": [
        "'''42. Create a tuple from user input.'''\n",
        "def create_tuple():\n",
        "  lst =[]\n",
        "  while True:\n",
        "    try:\n",
        "      i= input(\"Enter number (done for closing)\")\n",
        "      if i.lower()==\"done\":\n",
        "        break\n",
        "      i=int(i)\n",
        "      lst.append(i)\n",
        "    except:\n",
        "      i= input(\"Enter correct input\")\n",
        "  return tuple(lst)\n",
        "create_tuple()"
      ],
      "metadata": {
        "colab": {
          "base_uri": "https://localhost:8080/"
        },
        "id": "gCiUcLM1H5xg",
        "outputId": "78b2cf7f-ce7b-431e-e8be-61c2b8430412"
      },
      "execution_count": null,
      "outputs": [
        {
          "name": "stdout",
          "output_type": "stream",
          "text": [
            "Enter number (done for closing)1\n",
            "Enter number (done for closing)4\n",
            "Enter number (done for closing)done\n"
          ]
        },
        {
          "output_type": "execute_result",
          "data": {
            "text/plain": [
              "(1, 4)"
            ]
          },
          "metadata": {},
          "execution_count": 66
        }
      ]
    },
    {
      "cell_type": "code",
      "source": [
        "'''43. Swap two elements in a tuple.'''\n",
        "tpl= (1,2,3)\n",
        "lst= list(tpl)\n",
        "lst[1], lst[2] = lst[2], lst[1]\n",
        "tuple(lst)"
      ],
      "metadata": {
        "colab": {
          "base_uri": "https://localhost:8080/"
        },
        "id": "MOS1aGE_H50w",
        "outputId": "2e3b2715-a067-4d70-97f5-fddc87201508"
      },
      "execution_count": null,
      "outputs": [
        {
          "output_type": "execute_result",
          "data": {
            "text/plain": [
              "(1, 3, 2)"
            ]
          },
          "metadata": {},
          "execution_count": 67
        }
      ]
    },
    {
      "cell_type": "code",
      "source": [
        "'''44. Reverse the elements of a tuple.'''\n",
        "tpl= (1,2,3)\n",
        "tuple(list(tpl)[::-1])"
      ],
      "metadata": {
        "colab": {
          "base_uri": "https://localhost:8080/"
        },
        "id": "psNPjWsDH538",
        "outputId": "1dd95e2d-117b-4a0b-ba55-450be1dcd544"
      },
      "execution_count": null,
      "outputs": [
        {
          "output_type": "execute_result",
          "data": {
            "text/plain": [
              "(3, 2, 1)"
            ]
          },
          "metadata": {},
          "execution_count": 69
        }
      ]
    },
    {
      "cell_type": "code",
      "source": [
        "'''45. Create a tuple of the first `n` powers of 2.'''\n",
        "def pow2tpl(n):\n",
        "  lst=[]\n",
        "  for i in range(n):\n",
        "    lst.append(2**i)\n",
        "  return lst\n",
        "pow2tpl(5)"
      ],
      "metadata": {
        "colab": {
          "base_uri": "https://localhost:8080/"
        },
        "id": "cHpxqAkGH57O",
        "outputId": "d4d74b19-0593-430e-afac-add548cdb78d"
      },
      "execution_count": null,
      "outputs": [
        {
          "output_type": "execute_result",
          "data": {
            "text/plain": [
              "[1, 2, 4, 8, 16]"
            ]
          },
          "metadata": {},
          "execution_count": 72
        }
      ]
    },
    {
      "cell_type": "code",
      "source": [
        "'''46. Find the longest string in a tuple of strings.'''\n",
        "tpl=('as', 'fb', 'raf', 't', 'test')\n",
        "def largetpl(tpl):\n",
        "  for i in range(len(tpl)-1):\n",
        "    if len(tpl[i])<len(tpl[i+1]):\n",
        "      lar = tpl[i+1]\n",
        "    else:\n",
        "      lar = tpl[i]\n",
        "  return lar\n",
        "largetpl(tpl)"
      ],
      "metadata": {
        "colab": {
          "base_uri": "https://localhost:8080/",
          "height": 35
        },
        "id": "YDbDJRDWH5-_",
        "outputId": "b7cf7042-289c-45ea-95a8-4eac4573304e"
      },
      "execution_count": null,
      "outputs": [
        {
          "output_type": "execute_result",
          "data": {
            "text/plain": [
              "'test'"
            ],
            "application/vnd.google.colaboratory.intrinsic+json": {
              "type": "string"
            }
          },
          "metadata": {},
          "execution_count": 74
        }
      ]
    },
    {
      "cell_type": "code",
      "source": [
        "'''47. Find the shortest string in a tuple of strings.'''\n",
        "tpl=('as', 'fb', 'raf', 't', 'test')\n",
        "def smaltpl(tpl):\n",
        "  for i in range(len(tpl)-1):\n",
        "    if len(tpl[i])<len(tpl[i+1]):\n",
        "      lar = tpl[i]\n",
        "    else:\n",
        "      lar = tpl[i+1]\n",
        "  return lar\n",
        "smaltpl(tpl)"
      ],
      "metadata": {
        "colab": {
          "base_uri": "https://localhost:8080/",
          "height": 35
        },
        "id": "goBD50CjH6C5",
        "outputId": "d62459e9-43c1-47bc-e268-22cf79331127"
      },
      "execution_count": null,
      "outputs": [
        {
          "output_type": "execute_result",
          "data": {
            "text/plain": [
              "'t'"
            ],
            "application/vnd.google.colaboratory.intrinsic+json": {
              "type": "string"
            }
          },
          "metadata": {},
          "execution_count": 75
        }
      ]
    },
    {
      "cell_type": "code",
      "source": [
        "'''48. Create a tuple of the first `n` triangular numbers.'''"
      ],
      "metadata": {
        "id": "iJiDAIFoH6HH"
      },
      "execution_count": null,
      "outputs": []
    },
    {
      "cell_type": "code",
      "source": [
        "'''49. Check if a tuple contains another tuple as a subsequence.'''\n",
        "def containsub(main_tpl, sub_tpl):\n",
        "  if len(sub_tpl)>len(main_tpl):\n",
        "    return False\n",
        "  else:\n",
        "    for i in range(len(main_tpl)-len(sub_tpl)+1):\n",
        "      if main_tpl[i:i+len(sub_tpl)]==sub_tpl:\n",
        "        return True\n",
        "    return False\n",
        "\n",
        "containsub((1,2,3,4,5), (2,3))"
      ],
      "metadata": {
        "colab": {
          "base_uri": "https://localhost:8080/"
        },
        "id": "QOxNffh6doj5",
        "outputId": "dca935f3-8d8c-45a2-e9ea-add9da457b63"
      },
      "execution_count": null,
      "outputs": [
        {
          "output_type": "execute_result",
          "data": {
            "text/plain": [
              "True"
            ]
          },
          "metadata": {},
          "execution_count": 82
        }
      ]
    },
    {
      "cell_type": "code",
      "source": [
        "'''50. Create a tuple of alternating 1s and 0s of length `n`.'''\n",
        "n=10\n",
        "tuple([x%2 for x in range(n)])"
      ],
      "metadata": {
        "colab": {
          "base_uri": "https://localhost:8080/"
        },
        "id": "b3rr0jATdonB",
        "outputId": "28193e98-4d49-4fec-cb8d-c40d887a1cad"
      },
      "execution_count": null,
      "outputs": [
        {
          "output_type": "execute_result",
          "data": {
            "text/plain": [
              "(0, 1, 0, 1, 0, 1, 0, 1, 0, 1)"
            ]
          },
          "metadata": {},
          "execution_count": 83
        }
      ]
    },
    {
      "cell_type": "code",
      "source": [],
      "metadata": {
        "id": "VHb-wbZadoqN"
      },
      "execution_count": null,
      "outputs": []
    },
    {
      "cell_type": "code",
      "source": [
        "### Set Based Practice Problem :"
      ],
      "metadata": {
        "id": "zhKWOJCvdots"
      },
      "execution_count": null,
      "outputs": []
    },
    {
      "cell_type": "code",
      "source": [
        "'''1. Create a set with integers from 1 to 5.'''\n",
        "st= set([x for x in range(1,6)])\n",
        "st"
      ],
      "metadata": {
        "colab": {
          "base_uri": "https://localhost:8080/"
        },
        "id": "cQGIXZ8idowg",
        "outputId": "9d0516a6-0983-480d-d80a-7b8c14cbe2b5"
      },
      "execution_count": null,
      "outputs": [
        {
          "output_type": "execute_result",
          "data": {
            "text/plain": [
              "{1, 2, 3, 4, 5}"
            ]
          },
          "metadata": {},
          "execution_count": 2
        }
      ]
    },
    {
      "cell_type": "code",
      "source": [
        "'''2. Add an element to a set.'''\n",
        "st= set([x for x in range(1,6)])\n",
        "st.add(7)\n",
        "st"
      ],
      "metadata": {
        "colab": {
          "base_uri": "https://localhost:8080/"
        },
        "id": "e7y3qijkPv-W",
        "outputId": "dfd6b56f-5edf-45e6-e833-d47f0264582c"
      },
      "execution_count": null,
      "outputs": [
        {
          "output_type": "execute_result",
          "data": {
            "text/plain": [
              "{1, 2, 3, 4, 5, 7}"
            ]
          },
          "metadata": {},
          "execution_count": 3
        }
      ]
    },
    {
      "cell_type": "code",
      "source": [
        "'''3. Remove an element from a set.'''\n",
        "st= set([x for x in range(1,6)])\n",
        "st.remove(4)\n",
        "st"
      ],
      "metadata": {
        "colab": {
          "base_uri": "https://localhost:8080/"
        },
        "id": "f2ykcDh6PwBS",
        "outputId": "376d40f7-33d8-4052-ab9b-f299c1acf00c"
      },
      "execution_count": null,
      "outputs": [
        {
          "output_type": "execute_result",
          "data": {
            "text/plain": [
              "{1, 2, 3, 5}"
            ]
          },
          "metadata": {},
          "execution_count": 4
        }
      ]
    },
    {
      "cell_type": "code",
      "source": [
        "'''4. Check if an element exists in a set.'''\n",
        "st= set([x for x in range(1,6)])\n",
        "4 in st"
      ],
      "metadata": {
        "colab": {
          "base_uri": "https://localhost:8080/"
        },
        "id": "2Fd2h1DrPwEt",
        "outputId": "01f25734-8a41-4666-8402-201d43e20f3e"
      },
      "execution_count": null,
      "outputs": [
        {
          "output_type": "execute_result",
          "data": {
            "text/plain": [
              "True"
            ]
          },
          "metadata": {},
          "execution_count": 5
        }
      ]
    },
    {
      "cell_type": "code",
      "source": [
        "'''5. Find the length of a set without using the `len()` function.'''\n",
        "st= set([x for x in range(1,6)])\n",
        "ln=0\n",
        "for _ in st:\n",
        "  ln+=1\n",
        "ln"
      ],
      "metadata": {
        "colab": {
          "base_uri": "https://localhost:8080/"
        },
        "id": "tOdFt0y0PwID",
        "outputId": "59eb39cf-1c5b-4175-f5a2-6e28a4f732b0"
      },
      "execution_count": null,
      "outputs": [
        {
          "output_type": "execute_result",
          "data": {
            "text/plain": [
              "5"
            ]
          },
          "metadata": {},
          "execution_count": 6
        }
      ]
    },
    {
      "cell_type": "code",
      "source": [
        "'''6. Clear all elements from a set.'''\n",
        "st= set([x for x in range(1,6)])\n",
        "st.clear()\n",
        "st"
      ],
      "metadata": {
        "colab": {
          "base_uri": "https://localhost:8080/"
        },
        "id": "AiwJn5fFPwLW",
        "outputId": "7775e304-e615-423c-dacc-f6fda5892fbe"
      },
      "execution_count": null,
      "outputs": [
        {
          "output_type": "execute_result",
          "data": {
            "text/plain": [
              "set()"
            ]
          },
          "metadata": {},
          "execution_count": 8
        }
      ]
    },
    {
      "cell_type": "code",
      "source": [
        "'''7. Create a set of even numbers from 1 to 10.'''\n",
        "st= set([x for x in range(1,11) if x%2==0])\n",
        "st"
      ],
      "metadata": {
        "colab": {
          "base_uri": "https://localhost:8080/"
        },
        "id": "f2jfzO0wPwOg",
        "outputId": "262fad29-7242-429c-89a0-362d0df67751"
      },
      "execution_count": null,
      "outputs": [
        {
          "output_type": "execute_result",
          "data": {
            "text/plain": [
              "{2, 4, 6, 8, 10}"
            ]
          },
          "metadata": {},
          "execution_count": 9
        }
      ]
    },
    {
      "cell_type": "code",
      "source": [
        "'''8. Create a set of odd numbers from 1 to 10.'''\n",
        "st= set([x for x in range(1,11) if x%2==1])\n",
        "st"
      ],
      "metadata": {
        "colab": {
          "base_uri": "https://localhost:8080/"
        },
        "id": "GxRemoFlPwTy",
        "outputId": "68ca7440-5afe-415f-e49a-adc5712e9002"
      },
      "execution_count": null,
      "outputs": [
        {
          "output_type": "execute_result",
          "data": {
            "text/plain": [
              "{1, 3, 5, 7, 9}"
            ]
          },
          "metadata": {},
          "execution_count": 10
        }
      ]
    },
    {
      "cell_type": "code",
      "source": [
        "'''9. Find the union of two sets.'''\n",
        "st1, st2 ={1,2,3,4}, {3,4,5}\n",
        "st1.union(st2)"
      ],
      "metadata": {
        "colab": {
          "base_uri": "https://localhost:8080/"
        },
        "id": "EwSoRyHJPwXO",
        "outputId": "2ae949ae-1bf4-40d7-ec3b-abcf7c8a0b1f"
      },
      "execution_count": null,
      "outputs": [
        {
          "output_type": "execute_result",
          "data": {
            "text/plain": [
              "{1, 2, 3, 4, 5}"
            ]
          },
          "metadata": {},
          "execution_count": 12
        }
      ]
    },
    {
      "cell_type": "code",
      "source": [
        "'''10. Find the intersection of two sets.'''\n",
        "st1, st2 ={1,2,3,4}, {3,4,5}\n",
        "st1.intersection(st2)"
      ],
      "metadata": {
        "colab": {
          "base_uri": "https://localhost:8080/"
        },
        "id": "mPWcnGM0PwZn",
        "outputId": "60e153ac-6905-4cec-c3e7-f101b62fa1c7"
      },
      "execution_count": null,
      "outputs": [
        {
          "output_type": "execute_result",
          "data": {
            "text/plain": [
              "{3, 4}"
            ]
          },
          "metadata": {},
          "execution_count": 13
        }
      ]
    },
    {
      "cell_type": "code",
      "source": [
        "'''11. Find the difference between two sets.'''\n",
        "st1, st2 ={1,2,3,4}, {3,4,5}\n",
        "st1.difference(st2)"
      ],
      "metadata": {
        "colab": {
          "base_uri": "https://localhost:8080/"
        },
        "id": "NrrTedrwPwcz",
        "outputId": "9f21c78e-d4e8-490a-a65d-c2af6cb7c2f5"
      },
      "execution_count": null,
      "outputs": [
        {
          "output_type": "execute_result",
          "data": {
            "text/plain": [
              "{1, 2}"
            ]
          },
          "metadata": {},
          "execution_count": 14
        }
      ]
    },
    {
      "cell_type": "code",
      "source": [
        "'''12. Check if a set is a subset of another set.'''\n",
        "st1, st2 ={1,2,3,4}, {3,4}\n",
        "st1.union(st2)==st1"
      ],
      "metadata": {
        "colab": {
          "base_uri": "https://localhost:8080/"
        },
        "id": "gBrJgWIoPwf3",
        "outputId": "b7bb5144-6c39-4f12-f283-ade74defbb63"
      },
      "execution_count": null,
      "outputs": [
        {
          "output_type": "execute_result",
          "data": {
            "text/plain": [
              "True"
            ]
          },
          "metadata": {},
          "execution_count": 17
        }
      ]
    },
    {
      "cell_type": "code",
      "source": [
        "'''13. Check if a set is a superset of another set.'''\n",
        "st1, st2 ={1,2,3,4}, {3,4}\n",
        "st1.union(st2)==st1"
      ],
      "metadata": {
        "colab": {
          "base_uri": "https://localhost:8080/"
        },
        "id": "h-fZpnD-PwjR",
        "outputId": "da1b4e69-2d64-4491-846b-675216872bf1"
      },
      "execution_count": null,
      "outputs": [
        {
          "output_type": "execute_result",
          "data": {
            "text/plain": [
              "True"
            ]
          },
          "metadata": {},
          "execution_count": 18
        }
      ]
    },
    {
      "cell_type": "code",
      "source": [
        "'''14. Create a set from a list.'''\n",
        "lst=[1,2,4,4,6,5]\n",
        "st=set(lst)\n",
        "st"
      ],
      "metadata": {
        "colab": {
          "base_uri": "https://localhost:8080/"
        },
        "id": "8BM1_Pu6PwnN",
        "outputId": "2fd514a7-bc96-4a86-f751-0a27ed3cc4d6"
      },
      "execution_count": null,
      "outputs": [
        {
          "output_type": "execute_result",
          "data": {
            "text/plain": [
              "{1, 2, 4, 5, 6}"
            ]
          },
          "metadata": {},
          "execution_count": 19
        }
      ]
    },
    {
      "cell_type": "code",
      "source": [
        "'''15. Convert a set to a list.'''\n",
        "st= {1,2,3,4}\n",
        "lst=list(st)\n",
        "lst"
      ],
      "metadata": {
        "colab": {
          "base_uri": "https://localhost:8080/"
        },
        "id": "ltkpLBIhPwrS",
        "outputId": "b2c9d2f9-3ff0-46b0-e1ca-227831755913"
      },
      "execution_count": null,
      "outputs": [
        {
          "output_type": "execute_result",
          "data": {
            "text/plain": [
              "[1, 2, 3, 4]"
            ]
          },
          "metadata": {},
          "execution_count": 20
        }
      ]
    },
    {
      "cell_type": "code",
      "source": [
        "'''16. Remove a random element from a set.'''\n",
        "import random\n",
        "st= {0,1,2,3,4}\n",
        "n=random.randint(0,len(st)-1)\n",
        "st= list(st)\n",
        "st.pop(n)\n",
        "set(st)"
      ],
      "metadata": {
        "colab": {
          "base_uri": "https://localhost:8080/"
        },
        "id": "06pgDzJRPwu-",
        "outputId": "ed19b6aa-b62f-4cbb-a424-f1cbe6953046"
      },
      "execution_count": null,
      "outputs": [
        {
          "output_type": "execute_result",
          "data": {
            "text/plain": [
              "{0, 1, 2, 3}"
            ]
          },
          "metadata": {},
          "execution_count": 17
        }
      ]
    },
    {
      "cell_type": "code",
      "source": [
        "'''17. Pop an element from a set.'''\n",
        "st= {1,2,3}\n",
        "st.pop()"
      ],
      "metadata": {
        "colab": {
          "base_uri": "https://localhost:8080/"
        },
        "id": "8C8CBFwa06l7",
        "outputId": "ca1af752-668f-4654-d11f-756c77cc5823"
      },
      "execution_count": null,
      "outputs": [
        {
          "output_type": "execute_result",
          "data": {
            "text/plain": [
              "1"
            ]
          },
          "metadata": {},
          "execution_count": 18
        }
      ]
    },
    {
      "cell_type": "code",
      "source": [
        "'''18. Check if two sets have no elements in common.'''\n",
        "st1, st2 = {1,2,4,5}, {6,7,1,8}\n",
        "st1.intersection(st2)"
      ],
      "metadata": {
        "colab": {
          "base_uri": "https://localhost:8080/"
        },
        "id": "QPzQuAt906oz",
        "outputId": "8db6707d-c900-44e5-ae74-9dedea3e2fa3"
      },
      "execution_count": null,
      "outputs": [
        {
          "output_type": "execute_result",
          "data": {
            "text/plain": [
              "{1}"
            ]
          },
          "metadata": {},
          "execution_count": 19
        }
      ]
    },
    {
      "cell_type": "code",
      "source": [
        "'''19. Find the symmetric difference between two sets.'''\n",
        "st1, st2 = {1,2,4,5}, {6,7,1,8}\n",
        "st1.difference(st2)"
      ],
      "metadata": {
        "colab": {
          "base_uri": "https://localhost:8080/"
        },
        "id": "ivzyuOBp06r2",
        "outputId": "2958e22d-9626-4437-87a2-29cae0b6f603"
      },
      "execution_count": null,
      "outputs": [
        {
          "output_type": "execute_result",
          "data": {
            "text/plain": [
              "{2, 4, 5}"
            ]
          },
          "metadata": {},
          "execution_count": 20
        }
      ]
    },
    {
      "cell_type": "code",
      "source": [
        "'''20. Update a set with elements from another set.'''\n",
        "st1, st2 = {1,2,4,5}, {6,7,1,8}\n",
        "st1.union(st2)"
      ],
      "metadata": {
        "colab": {
          "base_uri": "https://localhost:8080/"
        },
        "id": "l11SyhFs06ul",
        "outputId": "dc207f2a-7d8b-47a7-8f16-a252c64e36f7"
      },
      "execution_count": null,
      "outputs": [
        {
          "output_type": "execute_result",
          "data": {
            "text/plain": [
              "{1, 2, 4, 5, 6, 7, 8}"
            ]
          },
          "metadata": {},
          "execution_count": 21
        }
      ]
    },
    {
      "cell_type": "code",
      "source": [
        "'''21. Create a set of the first 5 prime numbers.'''\n",
        "def prime(n):\n",
        "  if n<2:\n",
        "    return False\n",
        "  elif n==2:\n",
        "    return True\n",
        "  else:\n",
        "    for i in range(2, int(n/2)+1):\n",
        "      if n%i==0:\n",
        "        return False\n",
        "      else:\n",
        "        pass\n",
        "  return True\n",
        "\n",
        "def n_prime(n):\n",
        "  i=2\n",
        "  lst=[]\n",
        "  while len(lst)<n:\n",
        "    if prime(i):\n",
        "      lst.append(i)\n",
        "    else:\n",
        "      pass\n",
        "    i+=1\n",
        "  return lst\n",
        "\n",
        "n_prime(5)"
      ],
      "metadata": {
        "colab": {
          "base_uri": "https://localhost:8080/"
        },
        "id": "am4S-0V506xP",
        "outputId": "cf48b21d-4b85-4d9b-a1f8-5fdf5965b33f"
      },
      "execution_count": null,
      "outputs": [
        {
          "output_type": "execute_result",
          "data": {
            "text/plain": [
              "[2, 3, 5, 7, 11]"
            ]
          },
          "metadata": {},
          "execution_count": 39
        }
      ]
    },
    {
      "cell_type": "code",
      "source": [
        "'''22. Check if two sets are identical.'''\n",
        "st1, st2={1,2,3,4}, {1,2,3,4}\n",
        "st1==st2"
      ],
      "metadata": {
        "colab": {
          "base_uri": "https://localhost:8080/"
        },
        "id": "ckJhfqe-06zw",
        "outputId": "fa7cd971-8b94-4659-a4a2-ae3c4281275d"
      },
      "execution_count": null,
      "outputs": [
        {
          "output_type": "execute_result",
          "data": {
            "text/plain": [
              "True"
            ]
          },
          "metadata": {},
          "execution_count": 40
        }
      ]
    },
    {
      "cell_type": "code",
      "source": [
        "'''23. Create a frozen set.'''\n",
        "st={1,2,4,5}\n",
        "frozen_st= frozenset(st)\n",
        "frozen_st"
      ],
      "metadata": {
        "colab": {
          "base_uri": "https://localhost:8080/"
        },
        "id": "Q6pWU1ND062Z",
        "outputId": "9caf9f81-a03c-4cab-8158-93f87410e95a"
      },
      "execution_count": null,
      "outputs": [
        {
          "output_type": "execute_result",
          "data": {
            "text/plain": [
              "frozenset({1, 2, 4, 5})"
            ]
          },
          "metadata": {},
          "execution_count": 41
        }
      ]
    },
    {
      "cell_type": "code",
      "source": [
        "'''24. Check if a set is disjoint with another set.'''\n",
        "st1, st2={1,2,3,4}, {1,2,3,4}\n",
        "st1.isdisjoint(st2)"
      ],
      "metadata": {
        "colab": {
          "base_uri": "https://localhost:8080/"
        },
        "id": "1W6JxF8v065D",
        "outputId": "c9faf7a8-79f3-4a24-ebb5-f0a35fa1e19c"
      },
      "execution_count": null,
      "outputs": [
        {
          "output_type": "execute_result",
          "data": {
            "text/plain": [
              "False"
            ]
          },
          "metadata": {},
          "execution_count": 42
        }
      ]
    },
    {
      "cell_type": "code",
      "source": [
        "'''25. Create a set of squares of numbers from 1 to 5.'''\n",
        "lst= [x**2 for x in range(1,6)]\n",
        "set(lst)"
      ],
      "metadata": {
        "colab": {
          "base_uri": "https://localhost:8080/"
        },
        "id": "iA8K1bys0679",
        "outputId": "76f51098-9225-4741-ad07-da756bf7a69a"
      },
      "execution_count": null,
      "outputs": [
        {
          "output_type": "execute_result",
          "data": {
            "text/plain": [
              "{1, 4, 9, 16, 25}"
            ]
          },
          "metadata": {},
          "execution_count": 43
        }
      ]
    },
    {
      "cell_type": "code",
      "source": [
        "'''26. Filter out all even numbers from a set.'''\n",
        "st= {1,2,3,4,5,6}\n",
        "st =[x for x in st if x%2==1]\n",
        "set(st)"
      ],
      "metadata": {
        "colab": {
          "base_uri": "https://localhost:8080/"
        },
        "id": "9pbcVAkE06_m",
        "outputId": "ec32f8d9-62a1-42b7-d8ae-92885261de42"
      },
      "execution_count": null,
      "outputs": [
        {
          "output_type": "execute_result",
          "data": {
            "text/plain": [
              "{1, 3, 5}"
            ]
          },
          "metadata": {},
          "execution_count": 45
        }
      ]
    },
    {
      "cell_type": "code",
      "source": [
        "'''27. Multiply all elements in a set by 2.'''\n",
        "st= {1,2,3,45}\n",
        "st= [x*2 for x in st]\n",
        "set(st)"
      ],
      "metadata": {
        "colab": {
          "base_uri": "https://localhost:8080/"
        },
        "id": "DF4yrThO07Cs",
        "outputId": "2be1d254-092b-420a-c66c-b61a9cb42cad"
      },
      "execution_count": null,
      "outputs": [
        {
          "output_type": "execute_result",
          "data": {
            "text/plain": [
              "{2, 4, 6, 90}"
            ]
          },
          "metadata": {},
          "execution_count": 47
        }
      ]
    },
    {
      "cell_type": "code",
      "source": [
        "'''28. Create a set of random numbers.'''\n",
        "rand_num=8\n",
        "lst = [random.randint(1,rand_num) for x in range(0,random.randint(1,rand_num))]\n",
        "set(lst)"
      ],
      "metadata": {
        "colab": {
          "base_uri": "https://localhost:8080/"
        },
        "id": "6VHcqHgi07FS",
        "outputId": "4b1e8c78-c95f-45b6-dcdb-d41f18436a62"
      },
      "execution_count": null,
      "outputs": [
        {
          "output_type": "execute_result",
          "data": {
            "text/plain": [
              "{2, 3, 4, 5, 6, 8}"
            ]
          },
          "metadata": {},
          "execution_count": 57
        }
      ]
    },
    {
      "cell_type": "code",
      "source": [
        "'''29. Check if a set is empty.'''\n",
        "st={1,2,3,4}\n",
        "len(st)"
      ],
      "metadata": {
        "colab": {
          "base_uri": "https://localhost:8080/"
        },
        "id": "haDQ3jLH07Ic",
        "outputId": "fa7a56cd-170d-43c4-c36d-9011d7a0203a"
      },
      "execution_count": null,
      "outputs": [
        {
          "output_type": "execute_result",
          "data": {
            "text/plain": [
              "4"
            ]
          },
          "metadata": {},
          "execution_count": 58
        }
      ]
    },
    {
      "cell_type": "code",
      "source": [
        "'''30. Create a nested set (hint: use frozenset).'''\n",
        "st={1,2,3}\n",
        "fr_st = frozenset(st)\n"
      ],
      "metadata": {
        "id": "eijsLp-WAWyS"
      },
      "execution_count": null,
      "outputs": []
    },
    {
      "cell_type": "code",
      "source": [
        "'''31. Remove an element from a set using the discard method.'''\n",
        "st= {1,2,3,4}\n",
        "st.discard(2)\n",
        "st"
      ],
      "metadata": {
        "colab": {
          "base_uri": "https://localhost:8080/"
        },
        "id": "t9SPiIDnAW1J",
        "outputId": "c101a725-5ad8-4ea4-b8f0-b6939ce8239e"
      },
      "execution_count": null,
      "outputs": [
        {
          "output_type": "execute_result",
          "data": {
            "text/plain": [
              "{1, 3, 4}"
            ]
          },
          "metadata": {},
          "execution_count": 2
        }
      ]
    },
    {
      "cell_type": "code",
      "source": [
        "'''32. Compare two sets.'''\n",
        "st1,st2 = {1,2,3}, {2,3,4}\n",
        "st1==st2"
      ],
      "metadata": {
        "colab": {
          "base_uri": "https://localhost:8080/"
        },
        "id": "uiA8D6xDAW4D",
        "outputId": "d91e6c1a-ae7f-4693-d9fd-742c57ce08ff"
      },
      "execution_count": null,
      "outputs": [
        {
          "output_type": "execute_result",
          "data": {
            "text/plain": [
              "False"
            ]
          },
          "metadata": {},
          "execution_count": 3
        }
      ]
    },
    {
      "cell_type": "code",
      "source": [
        "'''33. Create a set from a string.'''\n",
        "strin = 'abacd'\n",
        "st = [x for x in strin]\n",
        "set(st)"
      ],
      "metadata": {
        "colab": {
          "base_uri": "https://localhost:8080/"
        },
        "id": "Vwc8Fm17AW67",
        "outputId": "c290651c-75cc-4b0c-bde1-6c1277f22c1f"
      },
      "execution_count": null,
      "outputs": [
        {
          "output_type": "execute_result",
          "data": {
            "text/plain": [
              "{'a', 'b', 'c', 'd'}"
            ]
          },
          "metadata": {},
          "execution_count": 5
        }
      ]
    },
    {
      "cell_type": "code",
      "source": [
        "'''34. Convert a set of strings to a set of integers.'''\n",
        "st = {'1','2','3'}\n",
        "stint = {int(x) for x in st}\n",
        "stint"
      ],
      "metadata": {
        "colab": {
          "base_uri": "https://localhost:8080/"
        },
        "id": "Ulfye8eaAW9k",
        "outputId": "4ffe9365-8b69-4f1c-abc4-856976f9b48d"
      },
      "execution_count": null,
      "outputs": [
        {
          "output_type": "execute_result",
          "data": {
            "text/plain": [
              "{1, 2, 3}"
            ]
          },
          "metadata": {},
          "execution_count": 6
        }
      ]
    },
    {
      "cell_type": "code",
      "source": [
        "'''35. Convert a set of integers to a set of strings.'''\n",
        "st= {1,2,3}\n",
        "stchar = {str(x) for x in st}\n",
        "stchar"
      ],
      "metadata": {
        "colab": {
          "base_uri": "https://localhost:8080/"
        },
        "id": "16O3twQ6AXAR",
        "outputId": "2f4587f2-0632-418d-de66-d7298bae5c8f"
      },
      "execution_count": null,
      "outputs": [
        {
          "output_type": "execute_result",
          "data": {
            "text/plain": [
              "{'1', '2', '3'}"
            ]
          },
          "metadata": {},
          "execution_count": 8
        }
      ]
    },
    {
      "cell_type": "code",
      "source": [
        "'''36. Create a set from a tuple.'''\n",
        "tp= (1,2,3)\n",
        "st= set(tp)\n",
        "st"
      ],
      "metadata": {
        "colab": {
          "base_uri": "https://localhost:8080/"
        },
        "id": "CYAz48ZvAXDN",
        "outputId": "a4fb3046-2465-4197-bae5-3580d12d460e"
      },
      "execution_count": null,
      "outputs": [
        {
          "output_type": "execute_result",
          "data": {
            "text/plain": [
              "{1, 2, 3}"
            ]
          },
          "metadata": {},
          "execution_count": 9
        }
      ]
    },
    {
      "cell_type": "code",
      "source": [
        "'''37. Convert a set to a tuple.'''\n",
        "st= {1,2,3}\n",
        "tuple(st)"
      ],
      "metadata": {
        "colab": {
          "base_uri": "https://localhost:8080/"
        },
        "id": "Usa2MxwFAXF5",
        "outputId": "f58ebff7-6763-4a27-bc0d-734c6d5326b4"
      },
      "execution_count": null,
      "outputs": [
        {
          "output_type": "execute_result",
          "data": {
            "text/plain": [
              "(1, 2, 3)"
            ]
          },
          "metadata": {},
          "execution_count": 10
        }
      ]
    },
    {
      "cell_type": "code",
      "source": [
        "'''38. Find the maximum value in a set.'''\n",
        "st= {1,2,5,3}\n",
        "max(st)"
      ],
      "metadata": {
        "colab": {
          "base_uri": "https://localhost:8080/"
        },
        "id": "xfrxzPjYAXIr",
        "outputId": "5f3eef54-7ce3-4427-97ca-51d6c1e28a02"
      },
      "execution_count": null,
      "outputs": [
        {
          "output_type": "execute_result",
          "data": {
            "text/plain": [
              "5"
            ]
          },
          "metadata": {},
          "execution_count": 11
        }
      ]
    },
    {
      "cell_type": "code",
      "source": [
        "'''39. Find the minimum value in a set.'''\n",
        "st= {2,4,1}\n",
        "min(st)"
      ],
      "metadata": {
        "colab": {
          "base_uri": "https://localhost:8080/"
        },
        "id": "neU_ThLAAXMB",
        "outputId": "e0391dd3-b574-420a-9fb6-3a353b74dbeb"
      },
      "execution_count": null,
      "outputs": [
        {
          "output_type": "execute_result",
          "data": {
            "text/plain": [
              "1"
            ]
          },
          "metadata": {},
          "execution_count": 12
        }
      ]
    },
    {
      "cell_type": "code",
      "source": [
        "'''40. Create a set from user input.'''\n",
        "inp = input(\"Enter value for set \")\n",
        "st=set()\n",
        "while inp != 'Done':\n",
        "  st.add(inp)\n",
        "  inp = input(\"Enter value for set \")\n",
        "print(\"set is\", st)"
      ],
      "metadata": {
        "colab": {
          "base_uri": "https://localhost:8080/"
        },
        "id": "cNqhfvhnAXOv",
        "outputId": "2d1ad480-7894-4b96-b233-f7fa74d9102e"
      },
      "execution_count": null,
      "outputs": [
        {
          "output_type": "stream",
          "name": "stdout",
          "text": [
            "Enter value for set1\n",
            "Enter value for set2\n",
            "Enter value for set4\n",
            "Enter value for setDone\n",
            "set is {'4', '2', '1'}\n"
          ]
        }
      ]
    },
    {
      "cell_type": "code",
      "source": [
        "'''41. Check if the intersection of two sets is empty.'''\n",
        "st1, st2 = {1,2,3}, {5,6}\n",
        "len(st1.intersection(st2))\n"
      ],
      "metadata": {
        "colab": {
          "base_uri": "https://localhost:8080/"
        },
        "id": "c2kg2nXi5p5R",
        "outputId": "ecbd3bd9-f3a8-4542-ab7b-fddfef859b2a"
      },
      "execution_count": null,
      "outputs": [
        {
          "output_type": "execute_result",
          "data": {
            "text/plain": [
              "0"
            ]
          },
          "metadata": {},
          "execution_count": 18
        }
      ]
    },
    {
      "cell_type": "code",
      "source": [
        "'''42. Create a set of the first 5 Fibonacci numbers.'''\n",
        "def fib(n):\n",
        "  if n <=2:\n",
        "    return 1\n",
        "  else:\n",
        "    return fib(n-1)+fib(n-2)\n",
        "\n",
        "for i in range(1,6):\n",
        "  print(fib(i))"
      ],
      "metadata": {
        "colab": {
          "base_uri": "https://localhost:8080/"
        },
        "id": "bLrjCFNv5p_A",
        "outputId": "e47f297b-9642-424f-861a-301e61e3d9a6"
      },
      "execution_count": null,
      "outputs": [
        {
          "output_type": "stream",
          "name": "stdout",
          "text": [
            "1\n",
            "1\n",
            "2\n",
            "3\n",
            "5\n"
          ]
        }
      ]
    },
    {
      "cell_type": "code",
      "source": [
        "'''43. Remove duplicates from a list using sets.'''\n",
        "lst= [1,2,4,3,4,2]\n",
        "set(lst)"
      ],
      "metadata": {
        "colab": {
          "base_uri": "https://localhost:8080/"
        },
        "id": "5Gg-gEzb5qC8",
        "outputId": "6e6243c5-4780-4ede-ed9e-e0333a03ca3d"
      },
      "execution_count": null,
      "outputs": [
        {
          "output_type": "execute_result",
          "data": {
            "text/plain": [
              "{1, 2, 3, 4}"
            ]
          },
          "metadata": {},
          "execution_count": 26
        }
      ]
    },
    {
      "cell_type": "code",
      "source": [
        "'''44. Check if two sets have the same elements, regardless of their count.'''\n"
      ],
      "metadata": {
        "id": "gJQkIDK_5qGj"
      },
      "execution_count": null,
      "outputs": []
    },
    {
      "cell_type": "code",
      "source": [
        "'''45. Create a set of the first `n` powers of 2.'''\n",
        "n=4\n",
        "st= {2**i for i in range(1,n+1)}\n",
        "st"
      ],
      "metadata": {
        "colab": {
          "base_uri": "https://localhost:8080/"
        },
        "id": "5OQXw5IA5qJ7",
        "outputId": "0003f4f5-2839-46e6-9de7-b1c5f0c67875"
      },
      "execution_count": null,
      "outputs": [
        {
          "output_type": "execute_result",
          "data": {
            "text/plain": [
              "{2, 4, 8, 16}"
            ]
          },
          "metadata": {},
          "execution_count": 28
        }
      ]
    },
    {
      "cell_type": "code",
      "source": [
        "'''46. Find the common elements between a set and a list.'''\n",
        "lst= [1,2,3]\n",
        "st={4,5,2}\n",
        "st.intersection(set(lst))"
      ],
      "metadata": {
        "colab": {
          "base_uri": "https://localhost:8080/"
        },
        "id": "HqcnNwD-5qN0",
        "outputId": "086936e4-83c5-4381-869e-b6ec3b05e00b"
      },
      "execution_count": null,
      "outputs": [
        {
          "output_type": "execute_result",
          "data": {
            "text/plain": [
              "{2}"
            ]
          },
          "metadata": {},
          "execution_count": 29
        }
      ]
    },
    {
      "cell_type": "code",
      "source": [
        "'''47. Create a set of the first `n` triangular numbers.'''"
      ],
      "metadata": {
        "id": "kFNVWlhR5qUB"
      },
      "execution_count": null,
      "outputs": []
    },
    {
      "cell_type": "code",
      "source": [
        "'''48. Check if a set contains another set as a subset.'''\n",
        "st1, st2 = {1,2,3,4,5}, {2,3}\n",
        "st1.intersection(st2) == st2 or st1.intersection(st2) == st1"
      ],
      "metadata": {
        "colab": {
          "base_uri": "https://localhost:8080/"
        },
        "id": "3BxUHSKf8CUe",
        "outputId": "d82149ad-4869-452f-c4a8-292c9bc5dc8f"
      },
      "execution_count": null,
      "outputs": [
        {
          "output_type": "execute_result",
          "data": {
            "text/plain": [
              "True"
            ]
          },
          "metadata": {},
          "execution_count": 32
        }
      ]
    },
    {
      "cell_type": "code",
      "source": [
        "'''49. Create a set of alternating 1s and 0s of length `n`.'''\n",
        "st = {x%2 for x in range(10) }\n",
        "st"
      ],
      "metadata": {
        "colab": {
          "base_uri": "https://localhost:8080/"
        },
        "id": "H8uVHIP08CbT",
        "outputId": "f45480c6-c28d-4d45-fc5c-8f01b66c98ec"
      },
      "execution_count": null,
      "outputs": [
        {
          "output_type": "execute_result",
          "data": {
            "text/plain": [
              "{0, 1}"
            ]
          },
          "metadata": {},
          "execution_count": 34
        }
      ]
    },
    {
      "cell_type": "code",
      "source": [
        "'''50. Merge multiple sets into one.'''\n",
        "st1, st2 = {1,2,3,4}, {3,4,5,6}\n",
        "st.union(st2)"
      ],
      "metadata": {
        "colab": {
          "base_uri": "https://localhost:8080/"
        },
        "id": "UyWmxD908Chu",
        "outputId": "e9747d0e-09d0-460b-e5e9-d123520d0fe3"
      },
      "execution_count": null,
      "outputs": [
        {
          "output_type": "execute_result",
          "data": {
            "text/plain": [
              "{0, 1, 3, 4, 5, 6}"
            ]
          },
          "metadata": {},
          "execution_count": 35
        }
      ]
    }
  ],
  "metadata": {
    "colab": {
      "provenance": [],
      "authorship_tag": "ABX9TyMv3NQH211NiOLWdDWMZNBI",
      "include_colab_link": true
    },
    "kernelspec": {
      "display_name": "Python 3",
      "name": "python3"
    },
    "language_info": {
      "name": "python"
    }
  },
  "nbformat": 4,
  "nbformat_minor": 0
}