{
 "cells": [
  {
   "cell_type": "code",
   "execution_count": 6,
   "id": "112532f7-3ff5-46ee-a3d6-cd622a513d83",
   "metadata": {},
   "outputs": [
    {
     "name": "stdout",
     "output_type": "stream",
     "text": [
      "first way 15 10\n",
      "second way 15 10\n"
     ]
    }
   ],
   "source": [
    "'''Declare two variables, `x` and `y`, and assign them integer values.\n",
    "Swap the values of these variables without using any temporary\n",
    "variable.'''\n",
    "x, y = 10, 15\n",
    "y,x=x,y\n",
    "print(\"first way\", x,y)\n",
    "x,y =10,15\n",
    "x = x+y\n",
    "y = x-y\n",
    "x = x-y\n",
    "print(\"second way\", x,y)"
   ]
  },
  {
   "cell_type": "code",
   "execution_count": 7,
   "id": "67ca0bd6-02cb-4cc3-95ac-eeb92a9f6a6e",
   "metadata": {},
   "outputs": [
    {
     "name": "stdout",
     "output_type": "stream",
     "text": [
      "area of rectangle is 150\n"
     ]
    }
   ],
   "source": [
    "'''Create a program that calculates the area of a rectangle. Take the\n",
    "length and width as inputs from the user and store them in variables.\n",
    "Calculate and display the area.'''\n",
    "length, width =10, 15\n",
    "area = length*width\n",
    "print(\"area of rectangle is\", area)"
   ]
  },
  {
   "cell_type": "code",
   "execution_count": 10,
   "id": "77fe00e4-ff15-4682-bf72-9452100aa144",
   "metadata": {},
   "outputs": [
    {
     "name": "stdout",
     "output_type": "stream",
     "text": [
      "temprature in cels 15, converted value in farenheight is 59.0\n"
     ]
    }
   ],
   "source": [
    "'''Write a Python program that converts temperature from Celsius to\n",
    "Fahrenheit. Take the temperature in Celsius as input, store it in a\n",
    "variable, convert it to Fahrenheit, and display the result.'''\n",
    "temp_celc =15\n",
    "temp_farn = (temp_celc* 9/5) + 32\n",
    "print(f\"temprature in cels {temp_celc}, converted value in farenheight is {temp_farn}\")"
   ]
  },
  {
   "cell_type": "code",
   "execution_count": 2,
   "id": "8f00d505-ea71-4864-903a-e8492796737f",
   "metadata": {},
   "outputs": [
    {
     "name": "stdin",
     "output_type": "stream",
     "text": [
      "insert a string testing\n"
     ]
    },
    {
     "name": "stdout",
     "output_type": "stream",
     "text": [
      "length of string is 7\n"
     ]
    }
   ],
   "source": [
    "'''1. Write a Python program that takes a string as input and prints the\n",
    "length of the string.'''\n",
    "string = input(\"insert a string\")\n",
    "leng= len(string)\n",
    "print(f\"length of string is {leng}\")"
   ]
  },
  {
   "cell_type": "code",
   "execution_count": 5,
   "id": "c8f5d994-2adc-4556-bdb3-b8856f0b72aa",
   "metadata": {},
   "outputs": [
    {
     "name": "stdin",
     "output_type": "stream",
     "text": [
      "insert a string power skills\n"
     ]
    },
    {
     "name": "stdout",
     "output_type": "stream",
     "text": [
      "length of string is 3\n"
     ]
    }
   ],
   "source": [
    "'''2. Create a program that takes a sentence from the user and counts the\n",
    "number of vowels (a, e, i, o, u) in the string.'''\n",
    "string = input(\"insert a string\")\n",
    "substring = [v for v in list(string) if v in ['a','e','i','o','u']]\n",
    "leng= len(substring)\n",
    "print(f\"length of string is {leng}\")"
   ]
  },
  {
   "cell_type": "code",
   "execution_count": 8,
   "id": "4e316207-4547-4fcb-87f7-18be4e815c68",
   "metadata": {},
   "outputs": [
    {
     "name": "stdout",
     "output_type": "stream",
     "text": [
      "original string is: 'ordered chars' and reversed string is: 'srahc deredro'\n"
     ]
    }
   ],
   "source": [
    "'''3. Given a string, reverse the order of characters using string slicing and\n",
    "print the reversed string.'''\n",
    "string=\"ordered chars\"\n",
    "rev_string=string[::-1]\n",
    "print(f\"original string is: '{string}' and reversed string is: '{rev_string}'\")"
   ]
  },
  {
   "cell_type": "code",
   "execution_count": 11,
   "id": "e0f211ee-9f08-490d-aa45-7ed5bdbe230d",
   "metadata": {},
   "outputs": [
    {
     "name": "stdin",
     "output_type": "stream",
     "text": [
      "insert a string rasar\n"
     ]
    },
    {
     "name": "stdout",
     "output_type": "stream",
     "text": [
      "Provided string 'rasar' is a palindrome\n"
     ]
    }
   ],
   "source": [
    "'''4. Write a program that takes a string as input and checks if it is a\n",
    "palindrome (reads the same forwards and backwards).'''\n",
    "string = input(\"insert a string\")\n",
    "rev_string=string[::-1]\n",
    "if string == rev_string:\n",
    "    print(f\"Provided string '{string}' is a palindrome\")\n",
    "else:\n",
    "    print(f\"Provided string '{string}' is not a palindrome\")"
   ]
  },
  {
   "cell_type": "code",
   "execution_count": 12,
   "id": "60cfe0dd-d464-4861-842a-9745f646bb71",
   "metadata": {},
   "outputs": [
    {
     "name": "stdin",
     "output_type": "stream",
     "text": [
      "insert a string Learn more skills \n"
     ]
    },
    {
     "name": "stdout",
     "output_type": "stream",
     "text": [
      "original string is: 'Learn more skills ' and without space string is: 'Learnmoreskills'\n"
     ]
    }
   ],
   "source": [
    "'''5. Create a program that takes a string as input and removes all the\n",
    "spaces from it. Print the modified string without spaces.'''\n",
    "string = input(\"insert a string\")\n",
    "wo_space = string.replace(\" \",\"\")\n",
    "print(f\"original string is: '{string}' and without space string is: '{wo_space}'\")"
   ]
  },
  {
   "cell_type": "code",
   "execution_count": null,
   "id": "0c938582-e46d-471f-8e8c-8f379d3fc746",
   "metadata": {},
   "outputs": [],
   "source": []
  }
 ],
 "metadata": {
  "kernelspec": {
   "display_name": "Python 3 (ipykernel)",
   "language": "python",
   "name": "python3"
  },
  "language_info": {
   "codemirror_mode": {
    "name": "ipython",
    "version": 3
   },
   "file_extension": ".py",
   "mimetype": "text/x-python",
   "name": "python",
   "nbconvert_exporter": "python",
   "pygments_lexer": "ipython3",
   "version": "3.10.8"
  }
 },
 "nbformat": 4,
 "nbformat_minor": 5
}
